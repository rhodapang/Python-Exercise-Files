{
 "cells": [
  {
   "cell_type": "markdown",
   "metadata": {},
   "source": [
    "## Example file for working with date information"
   ]
  },
  {
   "cell_type": "code",
   "execution_count": 17,
   "metadata": {},
   "outputs": [
    {
     "name": "stdout",
     "output_type": "stream",
     "text": [
      "Today's date is  2021-03-18\n",
      "Date Components:  18 3 2021\n",
      "Today's Weekday #:  3\n",
      "Which is a thursday\n",
      "The current date and time is  2021-03-18 16:28:44.752752\n",
      "The current time is  16:28:44.752752\n"
     ]
    }
   ],
   "source": [
    "#\n",
    "\n",
    "#\n",
    "\n",
    "from datetime import date\n",
    "from datetime import time\n",
    "from datetime import datetime\n",
    "\n",
    "def main():\n",
    "  ## DATE OBJECTS\n",
    "  # Get today's date from the simple today() method from the date class\n",
    "  today = date.today()\n",
    "  print (\"Today's date is \", today)\n",
    "  \n",
    "  # print out the date's individual components\n",
    "  print (\"Date Components: \", today.day, today.month, today.year)\n",
    "  \n",
    "  # retrieve today's weekday (0=Monday, 6=Sunday)\n",
    "  print (\"Today's Weekday #: \", today.weekday())\n",
    "  days = [\"monday\",\"tuesday\",\"wednesday\",\"thursday\",\"friday\",\"saturday\",\"sunday\"]\n",
    "  print (\"Which is a \" + days[today.weekday()])\n",
    "  \n",
    "  ## DATETIME OBJECTS\n",
    "  # Get today's date from the datetime class\n",
    "  today = datetime.now()\n",
    "  print  (\"The current date and time is \", today)\n",
    "  \n",
    "  # Get the current time\n",
    "  t = datetime.time(datetime.now())\n",
    "  print (\"The current time is \", t)\n",
    "  \n",
    "  \n",
    "if __name__ == \"__main__\":\n",
    "  main();\n",
    "  "
   ]
  },
  {
   "cell_type": "markdown",
   "metadata": {},
   "source": [
    "## Example file for formatting time and date output"
   ]
  },
  {
   "cell_type": "code",
   "execution_count": 18,
   "metadata": {},
   "outputs": [
    {
     "name": "stdout",
     "output_type": "stream",
     "text": [
      "The current year is: 2021\n",
      "Thu, 18 March, 21\n",
      "Locale date and time: Thu Mar 18 16:32:58 2021\n",
      "Locale date: 03/18/21\n",
      "Locale time: 16:32:58\n",
      "Current time: 04:32:58 PM\n",
      "24-hour time: 16:32\n"
     ]
    }
   ],
   "source": [
    "\n",
    "from datetime import datetime\n",
    "\n",
    "def main():\n",
    "  # Times and dates can be formatted using a set of predefined string\n",
    "  # control codes \n",
    "  now = datetime.now() # get the current date and time\n",
    "\n",
    "  #### Date Formatting ####\n",
    "  \n",
    "  # %y/%Y - Year, %a/%A - weekday, %b/%B - month, %d - day of month\n",
    "  print (now.strftime(\"The current year is: %Y\")) # full year with century\n",
    "  print (now.strftime(\"%a, %d %B, %y\")) # abbreviated day, num, full month, abbreviated year\n",
    "  \n",
    "  # %c - locale's date and time, %x - locale's date, %X - locale's time\n",
    "  print (now.strftime(\"Locale date and time: %c\"))\n",
    "  print (now.strftime(\"Locale date: %x\"))\n",
    "  print (now.strftime(\"Locale time: %X\"))\n",
    "  \n",
    "  #### Time Formatting ####\n",
    "  \n",
    "  # %I/%H - 12/24 Hour, %M - minute, %S - second, %p - locale's AM/PM\n",
    "  print (now.strftime(\"Current time: %I:%M:%S %p\")) # 12-Hour:Minute:Second:AM\n",
    "  print (now.strftime(\"24-hour time: %H:%M\")) # 24-Hour:Minute\n",
    "\n",
    "\n",
    "if __name__ == \"__main__\":\n",
    "  main();\n"
   ]
  },
  {
   "cell_type": "code",
   "execution_count": 23,
   "metadata": {},
   "outputs": [
    {
     "name": "stdout",
     "output_type": "stream",
     "text": [
      "Thu,18 March,21\n"
     ]
    }
   ],
   "source": [
    "now = datetime.now()\n",
    "print(now.strftime(\"%a,%d %B,%y\"))               "
   ]
  },
  {
   "cell_type": "code",
   "execution_count": 24,
   "metadata": {},
   "outputs": [
    {
     "name": "stdout",
     "output_type": "stream",
     "text": [
      "Local date and time: Thu Mar 18 16:36:44 2021\n",
      "Local date: 03/18/21\n",
      "Locale time: 16:36:44\n"
     ]
    }
   ],
   "source": [
    "\n",
    "print(now.strftime(\"Local date and time: %c\"))\n",
    "print(now.strftime(\"Local date: %x\"))\n",
    "print(now.strftime(\"Locale time: %X\"))"
   ]
  },
  {
   "cell_type": "code",
   "execution_count": null,
   "metadata": {},
   "outputs": [],
   "source": [
    "  print (now.strftime(\"Current time: %I:%M:%S %p\")) # 12-Hour:Minute:Second:AM\n",
    "  print (now.strftime(\"24-hour time: %H:%M\")) # 24-Hour:Minute"
   ]
  },
  {
   "cell_type": "code",
   "execution_count": 27,
   "metadata": {},
   "outputs": [
    {
     "name": "stdout",
     "output_type": "stream",
     "text": [
      "Current time: 04:36:44 PM\n"
     ]
    }
   ],
   "source": [
    "# %I/%H - 12/24 Hour, %M - minute, %S - second, %p - locale's AM/PM\n",
    "    \n",
    "print(now.strftime(\"Current time: %I:%M:%S %p\"))"
   ]
  },
  {
   "cell_type": "code",
   "execution_count": null,
   "metadata": {},
   "outputs": [],
   "source": []
  },
  {
   "cell_type": "code",
   "execution_count": null,
   "metadata": {},
   "outputs": [],
   "source": []
  }
 ],
 "metadata": {
  "kernelspec": {
   "display_name": "Python 3",
   "language": "python",
   "name": "python3"
  },
  "language_info": {
   "codemirror_mode": {
    "name": "ipython",
    "version": 3
   },
   "file_extension": ".py",
   "mimetype": "text/x-python",
   "name": "python",
   "nbconvert_exporter": "python",
   "pygments_lexer": "ipython3",
   "version": "3.7.3"
  },
  "toc": {
   "base_numbering": 1,
   "nav_menu": {},
   "number_sections": true,
   "sideBar": true,
   "skip_h1_title": false,
   "title_cell": "Table of Contents",
   "title_sidebar": "Contents",
   "toc_cell": false,
   "toc_position": {},
   "toc_section_display": true,
   "toc_window_display": false
  }
 },
 "nbformat": 4,
 "nbformat_minor": 4
}
