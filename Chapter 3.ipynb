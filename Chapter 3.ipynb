{
 "cells": [
  {
   "cell_type": "markdown",
   "metadata": {},
   "source": [
    "## Example file for working with date information"
   ]
  },
  {
   "cell_type": "code",
   "execution_count": 17,
   "metadata": {},
   "outputs": [
    {
     "name": "stdout",
     "output_type": "stream",
     "text": [
      "Today's date is  2021-03-18\n",
      "Date Components:  18 3 2021\n",
      "Today's Weekday #:  3\n",
      "Which is a thursday\n",
      "The current date and time is  2021-03-18 16:28:44.752752\n",
      "The current time is  16:28:44.752752\n"
     ]
    }
   ],
   "source": [
    "#\n",
    "\n",
    "#\n",
    "\n",
    "from datetime import date\n",
    "from datetime import time\n",
    "from datetime import datetime\n",
    "\n",
    "def main():\n",
    "  ## DATE OBJECTS\n",
    "  # Get today's date from the simple today() method from the date class\n",
    "  today = date.today()\n",
    "  print (\"Today's date is \", today)\n",
    "  \n",
    "  # print out the date's individual components\n",
    "  print (\"Date Components: \", today.day, today.month, today.year)\n",
    "  \n",
    "  # retrieve today's weekday (0=Monday, 6=Sunday)\n",
    "  print (\"Today's Weekday #: \", today.weekday())\n",
    "  days = [\"monday\",\"tuesday\",\"wednesday\",\"thursday\",\"friday\",\"saturday\",\"sunday\"]\n",
    "  print (\"Which is a \" + days[today.weekday()])\n",
    "  \n",
    "  ## DATETIME OBJECTS\n",
    "  # Get today's date from the datetime class\n",
    "  today = datetime.now()\n",
    "  print  (\"The current date and time is \", today)\n",
    "  \n",
    "  # Get the current time\n",
    "  t = datetime.time(datetime.now())\n",
    "  print (\"The current time is \", t)\n",
    "  \n",
    "  \n",
    "if __name__ == \"__main__\":\n",
    "  main();\n",
    "  "
   ]
  },
  {
   "cell_type": "markdown",
   "metadata": {},
   "source": [
    "## Example file for formatting time and date output"
   ]
  },
  {
   "cell_type": "code",
   "execution_count": 18,
   "metadata": {},
   "outputs": [
    {
     "name": "stdout",
     "output_type": "stream",
     "text": [
      "The current year is: 2021\n",
      "Thu, 18 March, 21\n",
      "Locale date and time: Thu Mar 18 16:32:58 2021\n",
      "Locale date: 03/18/21\n",
      "Locale time: 16:32:58\n",
      "Current time: 04:32:58 PM\n",
      "24-hour time: 16:32\n"
     ]
    }
   ],
   "source": [
    "\n",
    "from datetime import datetime\n",
    "\n",
    "def main():\n",
    "  # Times and dates can be formatted using a set of predefined string\n",
    "  # control codes \n",
    "  now = datetime.now() # get the current date and time\n",
    "\n",
    "  #### Date Formatting ####\n",
    "  \n",
    "  # %y/%Y - Year, %a/%A - weekday, %b/%B - month, %d - day of month\n",
    "  print (now.strftime(\"The current year is: %Y\")) # full year with century\n",
    "  print (now.strftime(\"%a, %d %B, %y\")) # abbreviated day, num, full month, abbreviated year\n",
    "  \n",
    "  # %c - locale's date and time, %x - locale's date, %X - locale's time\n",
    "  print (now.strftime(\"Locale date and time: %c\"))\n",
    "  print (now.strftime(\"Locale date: %x\"))\n",
    "  print (now.strftime(\"Locale time: %X\"))\n",
    "  \n",
    "  #### Time Formatting ####\n",
    "  \n",
    "  # %I/%H - 12/24 Hour, %M - minute, %S - second, %p - locale's AM/PM\n",
    "  print (now.strftime(\"Current time: %I:%M:%S %p\")) # 12-Hour:Minute:Second:AM\n",
    "  print (now.strftime(\"24-hour time: %H:%M\")) # 24-Hour:Minute\n",
    "\n",
    "\n",
    "if __name__ == \"__main__\":\n",
    "  main();\n"
   ]
  },
  {
   "cell_type": "code",
   "execution_count": 23,
   "metadata": {},
   "outputs": [
    {
     "name": "stdout",
     "output_type": "stream",
     "text": [
      "Thu,18 March,21\n"
     ]
    }
   ],
   "source": [
    "now = datetime.now()\n",
    "print(now.strftime(\"%a,%d %B,%y\"))               "
   ]
  },
  {
   "cell_type": "code",
   "execution_count": 24,
   "metadata": {},
   "outputs": [
    {
     "name": "stdout",
     "output_type": "stream",
     "text": [
      "Local date and time: Thu Mar 18 16:36:44 2021\n",
      "Local date: 03/18/21\n",
      "Locale time: 16:36:44\n"
     ]
    }
   ],
   "source": [
    "\n",
    "print(now.strftime(\"Local date and time: %c\"))\n",
    "print(now.strftime(\"Local date: %x\"))\n",
    "print(now.strftime(\"Locale time: %X\"))"
   ]
  },
  {
   "cell_type": "code",
   "execution_count": null,
   "metadata": {},
   "outputs": [],
   "source": [
    "  print (now.strftime(\"Current time: %I:%M:%S %p\")) # 12-Hour:Minute:Second:AM\n",
    "  print (now.strftime(\"24-hour time: %H:%M\")) # 24-Hour:Minute"
   ]
  },
  {
   "cell_type": "code",
   "execution_count": 27,
   "metadata": {},
   "outputs": [
    {
     "name": "stdout",
     "output_type": "stream",
     "text": [
      "Current time: 04:36:44 PM\n"
     ]
    }
   ],
   "source": [
    "# %I/%H - 12/24 Hour, %M - minute, %S - second, %p - locale's AM/PM\n",
    "    \n",
    "print(now.strftime(\"Current time: %I:%M:%S %p\"))"
   ]
  },
  {
   "cell_type": "code",
   "execution_count": null,
   "metadata": {},
   "outputs": [],
   "source": [
    "#\n",
    "# Example file for working with timedelta objects\n",
    "#\n",
    "\n",
    "from datetime import date\n",
    "from datetime import time\n",
    "from datetime import datetime\n",
    "\n",
    "\n",
    "# construct a basic timedelta and print it\n",
    "print (timedelta(days=365, hours=5, minutes=1))\n",
    "\n",
    "# print today's date\n",
    "now = datetime.now()\n",
    "print (\"today is: \" + str(now))\n",
    "\n",
    "# print today's date one year from now\n",
    "print (\"one year from now it will be: \" + str(now + timedelta(days=365)))\n",
    "\n",
    "# create a timedelta that uses more than one argument\n",
    "print (\"in two weeks and 3 days it will be: \" + str(now + timedelta(weeks=2, days=3)))\n",
    "\n",
    "# calculate the date 1 week ago, formatted as a string\n",
    "t = datetime.now() - timedelta(weeks=1)\n",
    "s = t.strftime(\"%A %B %d, %Y\")\n",
    "print (\"one week ago it was \" + s)\n",
    "\n",
    "### How many days until April Fools' Day?\n",
    "\n",
    "today = date.today()  # get today's date\n",
    "afd = date(today.year, 4, 1)  # get April Fool's for the same year\n",
    "# use date comparison to see if April Fool's has already gone for this year\n",
    "# if it has, use the replace() function to get the date for next year\n",
    "if afd < today:\n",
    "  print (\"April Fool's day already went by %d days ago\" % ((today-afd).days))\n",
    "  afd = afd.replace(year=today.year + 1)  # if so, get the date for next year\n",
    "\n",
    "# Now calculate the amount of time until April Fool's Day  \n",
    "time_to_afd = afd - today\n",
    "print (\"It's just\", time_to_afd.days, \"days until next April Fools' Day!\")\n",
    "\n"
   ]
  },
  {
   "cell_type": "code",
   "execution_count": 28,
   "metadata": {},
   "outputs": [],
   "source": [
    "from datetime import timedelta"
   ]
  },
  {
   "cell_type": "code",
   "execution_count": 29,
   "metadata": {},
   "outputs": [
    {
     "name": "stdout",
     "output_type": "stream",
     "text": [
      "365 days, 5:01:00\n"
     ]
    }
   ],
   "source": [
    "print(timedelta(days=365, hours=5, minutes=1))"
   ]
  },
  {
   "cell_type": "code",
   "execution_count": 30,
   "metadata": {},
   "outputs": [
    {
     "name": "stdout",
     "output_type": "stream",
     "text": [
      "Today is:2021-03-18 16:49:28.678089\n"
     ]
    }
   ],
   "source": [
    "now = datetime.now()\n",
    "print(\"Today is:\" + str(now))"
   ]
  },
  {
   "cell_type": "code",
   "execution_count": 31,
   "metadata": {},
   "outputs": [
    {
     "name": "stdout",
     "output_type": "stream",
     "text": [
      "One year from now it will be:2022-03-18 16:49:28.678089\n"
     ]
    }
   ],
   "source": [
    "print(\"One year from now it will be:\"+str(now + timedelta(days=365)))"
   ]
  },
  {
   "cell_type": "code",
   "execution_count": 33,
   "metadata": {},
   "outputs": [
    {
     "name": "stdout",
     "output_type": "stream",
     "text": [
      "In 2 days and 3 weeks, it will be 2021-03-27 16:49:28.678089\n"
     ]
    }
   ],
   "source": [
    "print(\"In 2 days and 3 weeks, it will be \"+ str(now+timedelta(days=2, weeks=1)))"
   ]
  },
  {
   "cell_type": "markdown",
   "metadata": {},
   "source": [
    "## Calendar "
   ]
  },
  {
   "cell_type": "code",
   "execution_count": 36,
   "metadata": {},
   "outputs": [],
   "source": [
    "import calendar"
   ]
  },
  {
   "cell_type": "code",
   "execution_count": 42,
   "metadata": {},
   "outputs": [
    {
     "name": "stdout",
     "output_type": "stream",
     "text": [
      "     March 2021\n",
      "Mo Tu We Th Fr Sa Su\n",
      " 1  2  3  4  5  6  7\n",
      " 8  9 10 11 12 13 14\n",
      "15 16 17 18 19 20 21\n",
      "22 23 24 25 26 27 28\n",
      "29 30 31\n",
      "\n"
     ]
    }
   ],
   "source": [
    "# create a plain text calendar\n",
    "\n",
    "c = calendar.TextCalendar(calendar.MONDAY)\n",
    "st = c.formatmonth(2021,3,0,0)\n",
    "print(st)"
   ]
  },
  {
   "cell_type": "code",
   "execution_count": 44,
   "metadata": {},
   "outputs": [
    {
     "name": "stdout",
     "output_type": "stream",
     "text": [
      "<table border=\"0\" cellpadding=\"0\" cellspacing=\"0\" class=\"month\">\n",
      "<tr><th colspan=\"7\" class=\"month\">March 2021</th></tr>\n",
      "<tr><th class=\"sun\">Sun</th><th class=\"mon\">Mon</th><th class=\"tue\">Tue</th><th class=\"wed\">Wed</th><th class=\"thu\">Thu</th><th class=\"fri\">Fri</th><th class=\"sat\">Sat</th></tr>\n",
      "<tr><td class=\"noday\">&nbsp;</td><td class=\"mon\">1</td><td class=\"tue\">2</td><td class=\"wed\">3</td><td class=\"thu\">4</td><td class=\"fri\">5</td><td class=\"sat\">6</td></tr>\n",
      "<tr><td class=\"sun\">7</td><td class=\"mon\">8</td><td class=\"tue\">9</td><td class=\"wed\">10</td><td class=\"thu\">11</td><td class=\"fri\">12</td><td class=\"sat\">13</td></tr>\n",
      "<tr><td class=\"sun\">14</td><td class=\"mon\">15</td><td class=\"tue\">16</td><td class=\"wed\">17</td><td class=\"thu\">18</td><td class=\"fri\">19</td><td class=\"sat\">20</td></tr>\n",
      "<tr><td class=\"sun\">21</td><td class=\"mon\">22</td><td class=\"tue\">23</td><td class=\"wed\">24</td><td class=\"thu\">25</td><td class=\"fri\">26</td><td class=\"sat\">27</td></tr>\n",
      "<tr><td class=\"sun\">28</td><td class=\"mon\">29</td><td class=\"tue\">30</td><td class=\"wed\">31</td><td class=\"noday\">&nbsp;</td><td class=\"noday\">&nbsp;</td><td class=\"noday\">&nbsp;</td></tr>\n",
      "</table>\n",
      "\n"
     ]
    }
   ],
   "source": [
    "# create an HTML formatted calendar\n",
    "hc = calendar.HTMLCalendar(calendar.SUNDAY)\n",
    "st = hc.formatmonth(2021,3)\n",
    "print(st)"
   ]
  },
  {
   "cell_type": "code",
   "execution_count": null,
   "metadata": {},
   "outputs": [],
   "source": [
    "# loop over the days of a month\n",
    "# zeroes mean that the day of the week is in an overlapping month"
   ]
  },
  {
   "cell_type": "code",
   "execution_count": 45,
   "metadata": {},
   "outputs": [
    {
     "name": "stdout",
     "output_type": "stream",
     "text": [
      "\n",
      "January\n",
      "February\n",
      "March\n",
      "April\n",
      "May\n",
      "June\n",
      "July\n",
      "August\n",
      "September\n",
      "October\n",
      "November\n",
      "December\n"
     ]
    }
   ],
   "source": [
    "for name in calendar.month_name:\n",
    "  print (name)"
   ]
  },
  {
   "cell_type": "code",
   "execution_count": 46,
   "metadata": {},
   "outputs": [
    {
     "name": "stdout",
     "output_type": "stream",
     "text": [
      "Monday\n",
      "Tuesday\n",
      "Wednesday\n",
      "Thursday\n",
      "Friday\n",
      "Saturday\n",
      "Sunday\n"
     ]
    }
   ],
   "source": [
    "for day in calendar.day_name:\n",
    "    print(day)"
   ]
  },
  {
   "cell_type": "code",
   "execution_count": 47,
   "metadata": {},
   "outputs": [
    {
     "name": "stdout",
     "output_type": "stream",
     "text": [
      "Team meetings will be on:\n",
      "   January  6\n",
      "  February  3\n",
      "     March  3\n",
      "     April  7\n",
      "       May  5\n",
      "      June  2\n",
      "      July  7\n",
      "    August  4\n",
      " September  1\n",
      "   October  6\n",
      "  November  3\n",
      "  December  1\n"
     ]
    }
   ],
   "source": [
    "# Calculate days based on a rule: For example, consider\n",
    "# a team meeting on the first Friday of every month.\n",
    "# To figure out what days that would be for each month,\n",
    "# we can use this script:\n",
    "print (\"Team meetings will be on:\")\n",
    "for m in range(1,13):\n",
    "  # returns an array of weeks that represent the month\n",
    "  cal = calendar.monthcalendar(2017, m)\n",
    "  # The first Friday has to be within the first two weeks\n",
    "  weekone = cal[0]\n",
    "  weektwo = cal[1]\n",
    "   \n",
    "  if weekone[calendar.FRIDAY] != 0:\n",
    "    meetday = weekone[calendar.FRIDAY]\n",
    "  else:\n",
    "    # if the first friday isn't in the first week, it must be in the second\n",
    "    meetday = weektwo[calendar.FRIDAY]\n",
    "      \n",
    "  print (\"%10s %2d\" % (calendar.month_name[m], meetday))\n"
   ]
  },
  {
   "cell_type": "code",
   "execution_count": null,
   "metadata": {},
   "outputs": [],
   "source": [
    "#\n",
    "# Example file for working with Calendars\n",
    "#\n",
    "\n",
    "import calendar\n",
    "\n",
    "# create a plain text calendar\n",
    "c = calendar.TextCalendar(calendar.SUNDAY)\n",
    "str = c.formatmonth(2017, 1, 0, 0)\n",
    "print (str)\n",
    "\n",
    "# create an HTML formatted calendar\n",
    "hc = calendar.HTMLCalendar(calendar.SUNDAY)\n",
    "str = hc.formatmonth(2017, 1)\n",
    "print (str)\n",
    "\n",
    "# loop over the days of a month\n",
    "# zeroes mean that the day of the week is in an overlapping month\n",
    "for i in c.itermonthdays(2017, 8):\n",
    "  print (i)\n",
    "  \n",
    "# The Calendar module provides useful utilities for the given locale,\n",
    "# such as the names of days and months in both full and abbreviated forms\n",
    "for name in calendar.month_name:\n",
    "  print (name)\n",
    "\n",
    "for day in calendar.day_name:\n",
    "  print (day)\n",
    "\n",
    "# Calculate days based on a rule: For example, consider\n",
    "# a team meeting on the first Friday of every month.\n",
    "# To figure out what days that would be for each month,\n",
    "# we can use this script:\n",
    "print (\"Team meetings will be on:\")\n",
    "for m in range(1,13):\n",
    "  # returns an array of weeks that represent the month\n",
    "  cal = calendar.monthcalendar(2017, m)\n",
    "  # The first Friday has to be within the first two weeks\n",
    "  weekone = cal[0]\n",
    "  weektwo = cal[1]\n",
    "   \n",
    "  if weekone[calendar.FRIDAY] != 0:\n",
    "    meetday = weekone[calendar.FRIDAY]\n",
    "  else:\n",
    "    # if the first friday isn't in the first week, it must be in the second\n",
    "    meetday = weektwo[calendar.FRIDAY]\n",
    "      \n",
    "  print (\"%10s %2d\" % (calendar.month_name[m], meetday))\n"
   ]
  }
 ],
 "metadata": {
  "kernelspec": {
   "display_name": "Python 3",
   "language": "python",
   "name": "python3"
  },
  "language_info": {
   "codemirror_mode": {
    "name": "ipython",
    "version": 3
   },
   "file_extension": ".py",
   "mimetype": "text/x-python",
   "name": "python",
   "nbconvert_exporter": "python",
   "pygments_lexer": "ipython3",
   "version": "3.7.3"
  },
  "toc": {
   "base_numbering": 1,
   "nav_menu": {},
   "number_sections": true,
   "sideBar": true,
   "skip_h1_title": false,
   "title_cell": "Table of Contents",
   "title_sidebar": "Contents",
   "toc_cell": false,
   "toc_position": {},
   "toc_section_display": true,
   "toc_window_display": false
  }
 },
 "nbformat": 4,
 "nbformat_minor": 4
}
