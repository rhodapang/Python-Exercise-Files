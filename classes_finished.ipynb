{
 "cells": [
  {
   "cell_type": "code",
   "execution_count": null,
   "metadata": {},
   "outputs": [],
   "source": [
    "#\n",
    "# Example file for working with classes\n",
    "#\n",
    "\n",
    "\n",
    "class myClass():\n",
    "    def method1(self):\n",
    "        print(\"myClass method1\")\n",
    "\n",
    "    def method2(self, someString):\n",
    "        print(\"myClass method2: \" + someString)\n",
    "\n",
    "\n",
    "class anotherClass(myClass):\n",
    "    def method2(self):\n",
    "        print(\"anotherClass method2\")\n",
    "\n",
    "    def method1(self):\n",
    "        myClass.method1(self)\n",
    "        print(\"anotherClass method1\")\n",
    "\n",
    "\n",
    "def main():\n",
    "    c = myClass()\n",
    "    c.method1()\n",
    "    c.method2(\"This is a string\")\n",
    "    c2 = anotherClass()\n",
    "    c2.method1()\n",
    "\n",
    "\n",
    "if __name__ == \"__main__\":\n",
    "    main()\n"
   ]
  },
  {
   "cell_type": "code",
   "execution_count": 1,
   "metadata": {},
   "outputs": [
    {
     "name": "stdout",
     "output_type": "stream",
     "text": [
      "Hello World\n"
     ]
    }
   ],
   "source": [
    "print(\"Hello World\")"
   ]
  },
  {
   "cell_type": "code",
   "execution_count": 2,
   "metadata": {},
   "outputs": [
    {
     "name": "stdout",
     "output_type": "stream",
     "text": [
      "What is your name?Rhoda\n"
     ]
    }
   ],
   "source": [
    "name = input(\"What is your name?\")"
   ]
  },
  {
   "cell_type": "code",
   "execution_count": 3,
   "metadata": {},
   "outputs": [],
   "source": [
    "def main():\n",
    "    print(\"Hello World\")\n",
    "    name = input(\"What is your name?\")\n",
    "    print(\"Nice to meet you,\", name)"
   ]
  },
  {
   "cell_type": "code",
   "execution_count": 4,
   "metadata": {},
   "outputs": [
    {
     "name": "stdout",
     "output_type": "stream",
     "text": [
      "Hello World\n",
      "What is your name?Rhoda\n",
      "Nice to meet you, Rhoda\n"
     ]
    }
   ],
   "source": [
    "if __name__ == \"__main__\":\n",
    "    main()"
   ]
  },
  {
   "cell_type": "code",
   "execution_count": 5,
   "metadata": {},
   "outputs": [
    {
     "name": "stdout",
     "output_type": "stream",
     "text": [
      "0\n"
     ]
    }
   ],
   "source": [
    "f = 0\n",
    "print(f)"
   ]
  },
  {
   "cell_type": "code",
   "execution_count": null,
   "metadata": {},
   "outputs": [],
   "source": []
  },
  {
   "cell_type": "code",
   "execution_count": null,
   "metadata": {},
   "outputs": [],
   "source": [
    "#\n",
    "# Example file for working with functions\n",
    "#\n",
    "\n",
    "# define a basic function\n",
    "def func1():\n",
    "    print(\"I am a function\")\n",
    "\n",
    "# function that takes arguments\n",
    "\n",
    "\n",
    "# function that returns a value\n",
    "\n",
    "\n",
    "# function with default value for an argument\n",
    "\n",
    "\n",
    "#function with variable number of arguments\n"
   ]
  },
  {
   "cell_type": "code",
   "execution_count": 7,
   "metadata": {},
   "outputs": [],
   "source": [
    "# define a basic function\n",
    "def func1():\n",
    "    print(\"I am a function\")\n",
    "    \n"
   ]
  },
  {
   "cell_type": "code",
   "execution_count": 8,
   "metadata": {},
   "outputs": [
    {
     "name": "stdout",
     "output_type": "stream",
     "text": [
      "I am a function\n",
      "I am a function\n",
      "None\n",
      "<function func1 at 0x00000206FF422B70>\n"
     ]
    }
   ],
   "source": [
    "func1()\n",
    "print(func1())\n",
    "print(func1)"
   ]
  },
  {
   "cell_type": "code",
   "execution_count": 10,
   "metadata": {},
   "outputs": [],
   "source": [
    "# function that takes arguments\n",
    "\n",
    "def func2(arg1, arg2):\n",
    "    print(arg1, \" \", arg2)"
   ]
  },
  {
   "cell_type": "code",
   "execution_count": 11,
   "metadata": {},
   "outputs": [],
   "source": [
    "# function that returns a value\n",
    "\n",
    "def cube(x):\n",
    "    return x**3"
   ]
  },
  {
   "cell_type": "code",
   "execution_count": 13,
   "metadata": {},
   "outputs": [
    {
     "name": "stdout",
     "output_type": "stream",
     "text": [
      "1   2\n",
      "1   2\n",
      "None\n",
      "<function func2 at 0x00000206FF42D400>\n"
     ]
    }
   ],
   "source": [
    "func2(1,2)\n",
    "print(func2(1,2))\n",
    "print(func2)"
   ]
  },
  {
   "cell_type": "code",
   "execution_count": 20,
   "metadata": {},
   "outputs": [],
   "source": [
    "# function with default value for an argument\n",
    "\n",
    "def power(num,x=1):\n",
    "    result =1\n",
    "    for i in range(x):\n",
    "        result = result * num\n",
    "    return result"
   ]
  },
  {
   "cell_type": "code",
   "execution_count": 22,
   "metadata": {},
   "outputs": [
    {
     "name": "stdout",
     "output_type": "stream",
     "text": [
      "125\n"
     ]
    },
    {
     "data": {
      "text/plain": [
       "<function __main__.power(num, x=1)>"
      ]
     },
     "execution_count": 22,
     "metadata": {},
     "output_type": "execute_result"
    }
   ],
   "source": [
    "print(power(5,3))\n",
    "power(5,3)\n",
    "power"
   ]
  },
  {
   "cell_type": "code",
   "execution_count": 1,
   "metadata": {},
   "outputs": [],
   "source": [
    "# function with variable number of arguments\n",
    "\n",
    "def mul_add(*args):\n",
    "    result = 0\n",
    "    for x in args:\n",
    "        result += x\n",
    "    return result"
   ]
  },
  {
   "cell_type": "code",
   "execution_count": 6,
   "metadata": {},
   "outputs": [
    {
     "name": "stdout",
     "output_type": "stream",
     "text": [
      "41\n",
      "<function mul_add at 0x00000285A038EA60>\n"
     ]
    }
   ],
   "source": [
    "print(mul_add(10,4,5,6,7,9))\n",
    "#mul_add(4,5,6,7,9)\n",
    "print(mul_add)"
   ]
  },
  {
   "cell_type": "code",
   "execution_count": 7,
   "metadata": {},
   "outputs": [],
   "source": [
    "#\n",
    "# Example file for working with conditional statements\n",
    "#\n",
    "\n",
    "\n",
    "def main():\n",
    "    x, y = 10, 100\n",
    "\n",
    "    # conditional flow uses if, elif, else\n",
    "\n",
    "    # conditional statements let you use \"a if C else b\"\n",
    "\n",
    "\n",
    "if __name__ == \"__main__\":\n",
    "    main()\n"
   ]
  },
  {
   "cell_type": "code",
   "execution_count": 8,
   "metadata": {
    "collapsed": true
   },
   "outputs": [
    {
     "name": "stdout",
     "output_type": "stream",
     "text": [
      "0\n",
      "1\n",
      "2\n",
      "3\n",
      "4\n",
      "5\n",
      "6\n",
      "7\n",
      "8\n",
      "9\n",
      "Mon\n",
      "Tue\n",
      "Wed\n",
      "Thu\n",
      "Fri\n",
      "Sat\n",
      "Sun\n",
      "5\n",
      "6\n",
      "7\n",
      "8\n",
      "9\n",
      "0 Mon\n",
      "1 Tue\n",
      "2 Wed\n",
      "3 Thu\n",
      "4 Fri\n",
      "5 Sat\n",
      "6 Sun\n"
     ]
    }
   ],
   "source": [
    "#\n",
    "# Example file for working with loops\n",
    "#\n",
    "\n",
    "def main():\n",
    "  x = 0\n",
    "  \n",
    "  # define a while loop\n",
    "  while (x < 5):\n",
    "     print (x)\n",
    "     x = x + 1\n",
    "\n",
    "  # define a for loop\n",
    "  for x in range(5,10):\n",
    "    print (x)\n",
    "    \n",
    "  # use a for loop over a collection\n",
    "  days = [\"Mon\",\"Tue\",\"Wed\",\"Thu\",\"Fri\",\"Sat\",\"Sun\"]\n",
    "  for d in days:\n",
    "    print (d)\n",
    "  \n",
    "  # use the break and continue statements\n",
    "  for x in range(5,10):\n",
    "    #if (x == 7): break\n",
    "    #if (x % 2 == 0): continue\n",
    "    print (x)\n",
    "  \n",
    "  #using the enumerate() function to get index \n",
    "  days = [\"Mon\",\"Tue\",\"Wed\",\"Thu\",\"Fri\",\"Sat\",\"Sun\"]\n",
    "  for i, d in enumerate(days):\n",
    "    print (i, d)\n",
    "  \n",
    "if __name__ == \"__main__\":\n",
    "  main()\n"
   ]
  },
  {
   "cell_type": "code",
   "execution_count": 10,
   "metadata": {},
   "outputs": [
    {
     "name": "stdout",
     "output_type": "stream",
     "text": [
      "myClass method1\n",
      "myClass method2: This is a string\n",
      "myClass method1\n",
      "anotherClass method1\n"
     ]
    }
   ],
   "source": [
    "#\n",
    "# Example file for working with classes\n",
    "#\n",
    "\n",
    "\n",
    "class myClass():\n",
    "    def method1(self):\n",
    "        print(\"myClass method1\")\n",
    "\n",
    "    def method2(self, someString):\n",
    "        print(\"myClass method2: \" + someString)\n",
    "\n",
    "\n",
    "class anotherClass(myClass):\n",
    "    def method2(self):\n",
    "        print(\"anotherClass method2\")\n",
    "\n",
    "    def method1(self):\n",
    "        myClass.method1(self)\n",
    "        print(\"anotherClass method1\")\n",
    "\n",
    "\n",
    "def main():\n",
    "    c = myClass()\n",
    "    c.method1()\n",
    "    c.method2(\"This is a string\")\n",
    "    c2 = anotherClass()\n",
    "    c2.method1()\n",
    "\n",
    "\n",
    "if __name__ == \"__main__\":\n",
    "    main()\n"
   ]
  },
  {
   "cell_type": "code",
   "execution_count": null,
   "metadata": {},
   "outputs": [],
   "source": []
  },
  {
   "cell_type": "code",
   "execution_count": null,
   "metadata": {},
   "outputs": [],
   "source": []
  },
  {
   "cell_type": "code",
   "execution_count": null,
   "metadata": {},
   "outputs": [],
   "source": []
  },
  {
   "cell_type": "code",
   "execution_count": null,
   "metadata": {},
   "outputs": [],
   "source": []
  },
  {
   "cell_type": "code",
   "execution_count": null,
   "metadata": {},
   "outputs": [],
   "source": []
  }
 ],
 "metadata": {
  "kernelspec": {
   "display_name": "Python 3",
   "language": "python",
   "name": "python3"
  },
  "language_info": {
   "codemirror_mode": {
    "name": "ipython",
    "version": 3
   },
   "file_extension": ".py",
   "mimetype": "text/x-python",
   "name": "python",
   "nbconvert_exporter": "python",
   "pygments_lexer": "ipython3",
   "version": "3.7.3"
  },
  "toc": {
   "base_numbering": 1,
   "nav_menu": {},
   "number_sections": true,
   "sideBar": true,
   "skip_h1_title": false,
   "title_cell": "Table of Contents",
   "title_sidebar": "Contents",
   "toc_cell": false,
   "toc_position": {},
   "toc_section_display": true,
   "toc_window_display": false
  }
 },
 "nbformat": 4,
 "nbformat_minor": 4
}
