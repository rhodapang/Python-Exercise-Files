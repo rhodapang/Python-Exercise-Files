{
 "cells": [
  {
   "cell_type": "code",
   "execution_count": 2,
   "metadata": {},
   "outputs": [],
   "source": [
    "import collections\n",
    "from collections import Counter"
   ]
  },
  {
   "cell_type": "markdown",
   "metadata": {},
   "source": [
    "### Counter\n",
    "\n",
    "- list\n",
    "- set\n",
    "- dict\n",
    "- tuple(inmuttable)"
   ]
  },
  {
   "cell_type": "code",
   "execution_count": 9,
   "metadata": {},
   "outputs": [
    {
     "name": "stdout",
     "output_type": "stream",
     "text": [
      "Counter({'a': 2, 'l': 2, 'g': 1, 'd': 1})\n",
      "Counter({'a': 2, 'c': 2, 'b': 1})\n",
      "Counter({'a': 2, 'c': 2, 'b': 1})\n",
      "4\n"
     ]
    }
   ],
   "source": [
    "c = Counter('gallad')\n",
    "print(c)\n",
    "c = Counter(['a','a','b','c','c'])\n",
    "print(c)\n",
    "e = Counter({'a':1,'b':2})\n",
    "print(c)\n",
    "c = Counter(cats = 4, dogs =7)\n",
    "print(c['cats'])"
   ]
  },
  {
   "cell_type": "code",
   "execution_count": 10,
   "metadata": {},
   "outputs": [
    {
     "data": {
      "text/plain": [
       "['a', 'b', 'b']"
      ]
     },
     "execution_count": 10,
     "metadata": {},
     "output_type": "execute_result"
    }
   ],
   "source": [
    "list(e.elements())"
   ]
  },
  {
   "cell_type": "code",
   "execution_count": 14,
   "metadata": {},
   "outputs": [
    {
     "data": {
      "text/plain": [
       "[('b', 2)]"
      ]
     },
     "execution_count": 14,
     "metadata": {},
     "output_type": "execute_result"
    }
   ],
   "source": [
    "e.most_common(1)"
   ]
  },
  {
   "cell_type": "code",
   "execution_count": 21,
   "metadata": {},
   "outputs": [],
   "source": [
    "c = Counter(a=4,b=2,c=0,d=-2)\n",
    "d = ['a','b','c']\n",
    "c.subtract(d)"
   ]
  },
  {
   "cell_type": "code",
   "execution_count": 22,
   "metadata": {},
   "outputs": [
    {
     "name": "stdout",
     "output_type": "stream",
     "text": [
      "Counter({'a': 3, 'b': 1, 'c': -1, 'd': -2})\n"
     ]
    }
   ],
   "source": [
    "print(c)"
   ]
  },
  {
   "cell_type": "code",
   "execution_count": 23,
   "metadata": {},
   "outputs": [
    {
     "name": "stdout",
     "output_type": "stream",
     "text": [
      "Counter({'a': 4, 'b': 2, 'c': 0, 'd': -2})\n"
     ]
    }
   ],
   "source": [
    "c.update(d)\n",
    "print(c)"
   ]
  },
  {
   "cell_type": "code",
   "execution_count": 24,
   "metadata": {},
   "outputs": [
    {
     "name": "stdout",
     "output_type": "stream",
     "text": [
      "Counter()\n"
     ]
    }
   ],
   "source": [
    "c.clear()\n",
    "print(c)"
   ]
  },
  {
   "cell_type": "code",
   "execution_count": 29,
   "metadata": {},
   "outputs": [
    {
     "name": "stdout",
     "output_type": "stream",
     "text": [
      "Counter({'a': 5, 'b': 3, 'c': 1})\n",
      "Counter({'a': 3, 'b': 1})\n",
      "Counter({'a': 1, 'b': 1})\n",
      "Counter({'a': 4, 'b': 2, 'c': 1})\n"
     ]
    }
   ],
   "source": [
    "c = Counter(a=4,b=2,c=0,d=-2)\n",
    "d = Counter(['a','b','c'])\n",
    "print(c+d)\n",
    "print(c-d)\n",
    "print(c & d)\n",
    "print( c | d)"
   ]
  },
  {
   "cell_type": "markdown",
   "metadata": {},
   "source": [
    "### Namedtuple()\n",
    "\n",
    "Named tuples assign meaning to each position in a tuple and allow for more readable, self-documenting code. They can be used wherever regular tuples are used, and they add the ability to access fields by name instead of position index."
   ]
  },
  {
   "cell_type": "code",
   "execution_count": 30,
   "metadata": {},
   "outputs": [],
   "source": [
    "from collections import namedtuple"
   ]
  },
  {
   "cell_type": "code",
   "execution_count": 34,
   "metadata": {},
   "outputs": [
    {
     "name": "stdout",
     "output_type": "stream",
     "text": [
      "Point(x=3, gy=4, z=5, h=9)\n"
     ]
    }
   ],
   "source": [
    "Point = namedtuple('Point','x gy z h')\n",
    "\n",
    "newp = Point(3, 4, 5, 9)\n",
    "\n",
    "print(newp)"
   ]
  },
  {
   "cell_type": "code",
   "execution_count": 37,
   "metadata": {},
   "outputs": [
    {
     "name": "stdout",
     "output_type": "stream",
     "text": [
      "Point(x=3, gy=4, z=5, h=9)\n"
     ]
    }
   ],
   "source": [
    "Point = namedtuple('Point',['x', 'gy', 'z','h'])\n",
    "\n",
    "newp = Point(3, 4, 5, 9)\n",
    "\n",
    "print(newp)"
   ]
  },
  {
   "cell_type": "code",
   "execution_count": 42,
   "metadata": {},
   "outputs": [
    {
     "name": "stdout",
     "output_type": "stream",
     "text": [
      "Point(x=3, gy=4, z=5, h=9)\n",
      "3 4\n",
      "3\n",
      "OrderedDict([('x', 3), ('gy', 4), ('z', 5), ('h', 9)])\n",
      "('x', 'gy', 'z', 'h')\n"
     ]
    }
   ],
   "source": [
    "Point = namedtuple('Point',{'x':0, 'gy':0, 'z':0,'h':0})\n",
    "\n",
    "newp = Point(3, 4, 5, 9)\n",
    "\n",
    "print(newp)\n",
    "print(newp.x, newp.gy)\n",
    "print(newp[0])\n",
    "print(newp._asdict())\n",
    "print(newp._fields)"
   ]
  },
  {
   "cell_type": "code",
   "execution_count": 43,
   "metadata": {},
   "outputs": [
    {
     "name": "stdout",
     "output_type": "stream",
     "text": [
      "Point(x=6, gy=4, z=5, h=9)\n"
     ]
    }
   ],
   "source": [
    "newp = newp._replace(x=6)\n",
    "print(newp)"
   ]
  },
  {
   "cell_type": "code",
   "execution_count": 46,
   "metadata": {},
   "outputs": [
    {
     "name": "stdout",
     "output_type": "stream",
     "text": [
      "Point(x='a', gy='b', z='c', h='d')\n"
     ]
    }
   ],
   "source": [
    "p2 = Point._make(['a','b','c','d'])\n",
    "print(p2)"
   ]
  },
  {
   "cell_type": "code",
   "execution_count": 47,
   "metadata": {},
   "outputs": [
    {
     "name": "stdout",
     "output_type": "stream",
     "text": [
      "55\n"
     ]
    }
   ],
   "source": [
    "color = (55,155,255)\n",
    "print(color[0])"
   ]
  },
  {
   "cell_type": "code",
   "execution_count": 48,
   "metadata": {},
   "outputs": [
    {
     "name": "stdout",
     "output_type": "stream",
     "text": [
      "55\n"
     ]
    }
   ],
   "source": [
    "color = {'red':55, \"green\":155,'blue':255}\n",
    "print(color['red'])"
   ]
  },
  {
   "cell_type": "code",
   "execution_count": 50,
   "metadata": {},
   "outputs": [
    {
     "name": "stdout",
     "output_type": "stream",
     "text": [
      "255\n"
     ]
    }
   ],
   "source": [
    "Color = namedtuple('Colour',['red','green','blue'])\n",
    "color = Color(blue=55, green=155,red=255)\n",
    "print(color[0])"
   ]
  },
  {
   "cell_type": "code",
   "execution_count": 51,
   "metadata": {},
   "outputs": [
    {
     "name": "stdout",
     "output_type": "stream",
     "text": [
      "255\n"
     ]
    }
   ],
   "source": [
    "print(color.red)"
   ]
  },
  {
   "cell_type": "markdown",
   "metadata": {},
   "source": [
    "### Collections/Deque(deck)\n",
    "\n",
    "list-like container with fast appends and pops on either end\n",
    "\n",
    "Returns a new deque object initialized left-to-right (using append()) with data from iterable. If iterable is not specified, the new deque is empty.\n",
    "\n",
    "Deques are a generalization of stacks and queues (the name is pronounced “deck” and is short for “double-ended queue”). Deques support thread-safe, memory efficient appends and pops from either side of the deque with approximately the same O(1) performance in either direction."
   ]
  },
  {
   "cell_type": "code",
   "execution_count": 52,
   "metadata": {},
   "outputs": [],
   "source": [
    "from collections import deque"
   ]
  },
  {
   "cell_type": "code",
   "execution_count": 63,
   "metadata": {},
   "outputs": [
    {
     "name": "stdout",
     "output_type": "stream",
     "text": [
      "deque(['h', 'e', 'l', 'l', 'o'])\n"
     ]
    }
   ],
   "source": [
    "d = deque(\"hello\")\n",
    "print(d)"
   ]
  },
  {
   "cell_type": "code",
   "execution_count": 64,
   "metadata": {},
   "outputs": [
    {
     "name": "stdout",
     "output_type": "stream",
     "text": [
      "deque(['h', 'e', 'l', 'l', 'o', '4', '5'])\n"
     ]
    }
   ],
   "source": [
    "d.append('4')\n",
    "d.append('5')\n",
    "print(d)"
   ]
  },
  {
   "cell_type": "code",
   "execution_count": 65,
   "metadata": {},
   "outputs": [
    {
     "name": "stdout",
     "output_type": "stream",
     "text": [
      "deque(['6', 'h', 'e', 'l', 'l', 'o', '4', '5'])\n"
     ]
    }
   ],
   "source": [
    "d.appendleft('6')\n",
    "print(d)"
   ]
  },
  {
   "cell_type": "code",
   "execution_count": 66,
   "metadata": {},
   "outputs": [
    {
     "name": "stdout",
     "output_type": "stream",
     "text": [
      "5\n",
      "6\n",
      "deque(['h', 'e', 'l', 'l', 'o', '4'])\n"
     ]
    }
   ],
   "source": [
    "print(d.pop())\n",
    "print(d.popleft())\n",
    "print(d)"
   ]
  },
  {
   "cell_type": "code",
   "execution_count": 67,
   "metadata": {},
   "outputs": [
    {
     "data": {
      "text/plain": [
       "deque([])"
      ]
     },
     "execution_count": 67,
     "metadata": {},
     "output_type": "execute_result"
    }
   ],
   "source": [
    "d.clear()\n",
    "d"
   ]
  },
  {
   "cell_type": "code",
   "execution_count": 69,
   "metadata": {},
   "outputs": [
    {
     "name": "stdout",
     "output_type": "stream",
     "text": [
      "deque(['4', '5', '6', '4', '5', '6', 'h', 'e', 'l', 'l', 'o'])\n"
     ]
    }
   ],
   "source": [
    "d.extend('456')\n",
    "d.extend('hello')\n",
    "print(d)"
   ]
  },
  {
   "cell_type": "code",
   "execution_count": 70,
   "metadata": {},
   "outputs": [
    {
     "data": {
      "text/plain": [
       "deque(['s', 'e', 'y', '4', '5', '6', '4', '5', '6', 'h', 'e', 'l', 'l', 'o'])"
      ]
     },
     "execution_count": 70,
     "metadata": {},
     "output_type": "execute_result"
    }
   ],
   "source": [
    "d.extendleft('yes')\n",
    "d"
   ]
  },
  {
   "cell_type": "code",
   "execution_count": 71,
   "metadata": {},
   "outputs": [
    {
     "name": "stdout",
     "output_type": "stream",
     "text": [
      "deque(['e', 'y', '4', '5', '6', '4', '5', '6', 'h', 'e', 'l', 'l', 'o', 's'])\n"
     ]
    }
   ],
   "source": [
    "d.rotate(-1)\n",
    "print(d)"
   ]
  },
  {
   "cell_type": "code",
   "execution_count": 72,
   "metadata": {},
   "outputs": [
    {
     "name": "stdout",
     "output_type": "stream",
     "text": [
      "deque(['y', '4', '5', '6', '4', '5', '6', 'h', 'e', 'l', 'l', 'o', 's', 'e'])\n"
     ]
    }
   ],
   "source": [
    "d.rotate(-1)\n",
    "print(d)"
   ]
  },
  {
   "cell_type": "code",
   "execution_count": 73,
   "metadata": {},
   "outputs": [
    {
     "name": "stdout",
     "output_type": "stream",
     "text": [
      "deque(['5', '6', '4', '5', '6', 'h', 'e', 'l', 'l', 'o', 's', 'e', 'y', '4'])\n"
     ]
    }
   ],
   "source": [
    "d.rotate(-2)\n",
    "print(d)"
   ]
  },
  {
   "cell_type": "code",
   "execution_count": 74,
   "metadata": {},
   "outputs": [
    {
     "name": "stdout",
     "output_type": "stream",
     "text": [
      "deque(['4', '5', '6', '4', '5', '6', 'h', 'e', 'l', 'l', 'o', 's', 'e', 'y'])\n"
     ]
    }
   ],
   "source": [
    "d.rotate(1)\n",
    "print(d)"
   ]
  },
  {
   "cell_type": "code",
   "execution_count": null,
   "metadata": {},
   "outputs": [],
   "source": []
  }
 ],
 "metadata": {
  "kernelspec": {
   "display_name": "Python 3",
   "language": "python",
   "name": "python3"
  },
  "language_info": {
   "codemirror_mode": {
    "name": "ipython",
    "version": 3
   },
   "file_extension": ".py",
   "mimetype": "text/x-python",
   "name": "python",
   "nbconvert_exporter": "python",
   "pygments_lexer": "ipython3",
   "version": "3.7.3"
  },
  "toc": {
   "base_numbering": 1,
   "nav_menu": {},
   "number_sections": true,
   "sideBar": true,
   "skip_h1_title": false,
   "title_cell": "Table of Contents",
   "title_sidebar": "Contents",
   "toc_cell": false,
   "toc_position": {},
   "toc_section_display": true,
   "toc_window_display": false
  }
 },
 "nbformat": 4,
 "nbformat_minor": 4
}
