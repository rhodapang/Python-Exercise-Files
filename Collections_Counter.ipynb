{
 "cells": [
  {
   "cell_type": "code",
   "execution_count": 2,
   "metadata": {},
   "outputs": [],
   "source": [
    "import collections\n",
    "from collections import Counter"
   ]
  },
  {
   "cell_type": "markdown",
   "metadata": {},
   "source": [
    "### Counter\n",
    "\n",
    "- list\n",
    "- set\n",
    "- dict\n",
    "- tuple(inmuttable)"
   ]
  },
  {
   "cell_type": "code",
   "execution_count": 9,
   "metadata": {},
   "outputs": [
    {
     "name": "stdout",
     "output_type": "stream",
     "text": [
      "Counter({'a': 2, 'l': 2, 'g': 1, 'd': 1})\n",
      "Counter({'a': 2, 'c': 2, 'b': 1})\n",
      "Counter({'a': 2, 'c': 2, 'b': 1})\n",
      "4\n"
     ]
    }
   ],
   "source": [
    "c = Counter('gallad')\n",
    "print(c)\n",
    "c = Counter(['a','a','b','c','c'])\n",
    "print(c)\n",
    "e = Counter({'a':1,'b':2})\n",
    "print(c)\n",
    "c = Counter(cats = 4, dogs =7)\n",
    "print(c['cats'])"
   ]
  },
  {
   "cell_type": "code",
   "execution_count": 10,
   "metadata": {},
   "outputs": [
    {
     "data": {
      "text/plain": [
       "['a', 'b', 'b']"
      ]
     },
     "execution_count": 10,
     "metadata": {},
     "output_type": "execute_result"
    }
   ],
   "source": [
    "list(e.elements())"
   ]
  },
  {
   "cell_type": "code",
   "execution_count": 14,
   "metadata": {},
   "outputs": [
    {
     "data": {
      "text/plain": [
       "[('b', 2)]"
      ]
     },
     "execution_count": 14,
     "metadata": {},
     "output_type": "execute_result"
    }
   ],
   "source": [
    "e.most_common(1)"
   ]
  },
  {
   "cell_type": "code",
   "execution_count": 21,
   "metadata": {},
   "outputs": [],
   "source": [
    "c = Counter(a=4,b=2,c=0,d=-2)\n",
    "d = ['a','b','c']\n",
    "c.subtract(d)"
   ]
  },
  {
   "cell_type": "code",
   "execution_count": 22,
   "metadata": {},
   "outputs": [
    {
     "name": "stdout",
     "output_type": "stream",
     "text": [
      "Counter({'a': 3, 'b': 1, 'c': -1, 'd': -2})\n"
     ]
    }
   ],
   "source": [
    "print(c)"
   ]
  },
  {
   "cell_type": "code",
   "execution_count": 23,
   "metadata": {},
   "outputs": [
    {
     "name": "stdout",
     "output_type": "stream",
     "text": [
      "Counter({'a': 4, 'b': 2, 'c': 0, 'd': -2})\n"
     ]
    }
   ],
   "source": [
    "c.update(d)\n",
    "print(c)"
   ]
  },
  {
   "cell_type": "code",
   "execution_count": 24,
   "metadata": {},
   "outputs": [
    {
     "name": "stdout",
     "output_type": "stream",
     "text": [
      "Counter()\n"
     ]
    }
   ],
   "source": [
    "c.clear()\n",
    "print(c)"
   ]
  },
  {
   "cell_type": "code",
   "execution_count": 29,
   "metadata": {},
   "outputs": [
    {
     "name": "stdout",
     "output_type": "stream",
     "text": [
      "Counter({'a': 5, 'b': 3, 'c': 1})\n",
      "Counter({'a': 3, 'b': 1})\n",
      "Counter({'a': 1, 'b': 1})\n",
      "Counter({'a': 4, 'b': 2, 'c': 1})\n"
     ]
    }
   ],
   "source": [
    "c = Counter(a=4,b=2,c=0,d=-2)\n",
    "d = Counter(['a','b','c'])\n",
    "print(c+d)\n",
    "print(c-d)\n",
    "print(c & d)\n",
    "print( c | d)"
   ]
  },
  {
   "cell_type": "markdown",
   "metadata": {},
   "source": [
    "### Namedtuple()\n",
    "\n",
    "Named tuples assign meaning to each position in a tuple and allow for more readable, self-documenting code. They can be used wherever regular tuples are used, and they add the ability to access fields by name instead of position index."
   ]
  },
  {
   "cell_type": "code",
   "execution_count": 30,
   "metadata": {},
   "outputs": [],
   "source": [
    "from collections import namedtuple"
   ]
  },
  {
   "cell_type": "code",
   "execution_count": 34,
   "metadata": {},
   "outputs": [
    {
     "name": "stdout",
     "output_type": "stream",
     "text": [
      "Point(x=3, gy=4, z=5, h=9)\n"
     ]
    }
   ],
   "source": [
    "Point = namedtuple('Point','x gy z h')\n",
    "\n",
    "newp = Point(3, 4, 5, 9)\n",
    "\n",
    "print(newp)"
   ]
  },
  {
   "cell_type": "code",
   "execution_count": 37,
   "metadata": {},
   "outputs": [
    {
     "name": "stdout",
     "output_type": "stream",
     "text": [
      "Point(x=3, gy=4, z=5, h=9)\n"
     ]
    }
   ],
   "source": [
    "Point = namedtuple('Point',['x', 'gy', 'z','h'])\n",
    "\n",
    "newp = Point(3, 4, 5, 9)\n",
    "\n",
    "print(newp)"
   ]
  },
  {
   "cell_type": "code",
   "execution_count": 42,
   "metadata": {},
   "outputs": [
    {
     "name": "stdout",
     "output_type": "stream",
     "text": [
      "Point(x=3, gy=4, z=5, h=9)\n",
      "3 4\n",
      "3\n",
      "OrderedDict([('x', 3), ('gy', 4), ('z', 5), ('h', 9)])\n",
      "('x', 'gy', 'z', 'h')\n"
     ]
    }
   ],
   "source": [
    "Point = namedtuple('Point',{'x':0, 'gy':0, 'z':0,'h':0})\n",
    "\n",
    "newp = Point(3, 4, 5, 9)\n",
    "\n",
    "print(newp)\n",
    "print(newp.x, newp.gy)\n",
    "print(newp[0])\n",
    "print(newp._asdict())\n",
    "print(newp._fields)"
   ]
  },
  {
   "cell_type": "code",
   "execution_count": 43,
   "metadata": {},
   "outputs": [
    {
     "name": "stdout",
     "output_type": "stream",
     "text": [
      "Point(x=6, gy=4, z=5, h=9)\n"
     ]
    }
   ],
   "source": [
    "newp = newp._replace(x=6)\n",
    "print(newp)"
   ]
  },
  {
   "cell_type": "code",
   "execution_count": 46,
   "metadata": {},
   "outputs": [
    {
     "name": "stdout",
     "output_type": "stream",
     "text": [
      "Point(x='a', gy='b', z='c', h='d')\n"
     ]
    }
   ],
   "source": [
    "p2 = Point._make(['a','b','c','d'])\n",
    "print(p2)"
   ]
  },
  {
   "cell_type": "code",
   "execution_count": 47,
   "metadata": {},
   "outputs": [
    {
     "name": "stdout",
     "output_type": "stream",
     "text": [
      "55\n"
     ]
    }
   ],
   "source": [
    "color = (55,155,255)\n",
    "print(color[0])"
   ]
  },
  {
   "cell_type": "code",
   "execution_count": 48,
   "metadata": {},
   "outputs": [
    {
     "name": "stdout",
     "output_type": "stream",
     "text": [
      "55\n"
     ]
    }
   ],
   "source": [
    "color = {'red':55, \"green\":155,'blue':255}\n",
    "print(color['red'])"
   ]
  },
  {
   "cell_type": "code",
   "execution_count": 50,
   "metadata": {},
   "outputs": [
    {
     "name": "stdout",
     "output_type": "stream",
     "text": [
      "255\n"
     ]
    }
   ],
   "source": [
    "Color = namedtuple('Colour',['red','green','blue'])\n",
    "color = Color(blue=55, green=155,red=255)\n",
    "print(color[0])"
   ]
  },
  {
   "cell_type": "code",
   "execution_count": 51,
   "metadata": {},
   "outputs": [
    {
     "name": "stdout",
     "output_type": "stream",
     "text": [
      "255\n"
     ]
    }
   ],
   "source": [
    "print(color.red)"
   ]
  },
  {
   "cell_type": "markdown",
   "metadata": {},
   "source": [
    "### Collections/Deque(deck)\n",
    "\n",
    "list-like container with fast appends and pops on either end\n",
    "\n",
    "Returns a new deque object initialized left-to-right (using append()) with data from iterable. If iterable is not specified, the new deque is empty.\n",
    "\n",
    "Deques are a generalization of stacks and queues (the name is pronounced “deck” and is short for “double-ended queue”). Deques support thread-safe, memory efficient appends and pops from either side of the deque with approximately the same O(1) performance in either direction."
   ]
  },
  {
   "cell_type": "code",
   "execution_count": 52,
   "metadata": {},
   "outputs": [],
   "source": [
    "from collections import deque"
   ]
  },
  {
   "cell_type": "code",
   "execution_count": 63,
   "metadata": {},
   "outputs": [
    {
     "name": "stdout",
     "output_type": "stream",
     "text": [
      "deque(['h', 'e', 'l', 'l', 'o'])\n"
     ]
    }
   ],
   "source": [
    "d = deque(\"hello\")\n",
    "print(d)"
   ]
  },
  {
   "cell_type": "code",
   "execution_count": 64,
   "metadata": {},
   "outputs": [
    {
     "name": "stdout",
     "output_type": "stream",
     "text": [
      "deque(['h', 'e', 'l', 'l', 'o', '4', '5'])\n"
     ]
    }
   ],
   "source": [
    "d.append('4')\n",
    "d.append('5')\n",
    "print(d)"
   ]
  },
  {
   "cell_type": "code",
   "execution_count": 65,
   "metadata": {},
   "outputs": [
    {
     "name": "stdout",
     "output_type": "stream",
     "text": [
      "deque(['6', 'h', 'e', 'l', 'l', 'o', '4', '5'])\n"
     ]
    }
   ],
   "source": [
    "d.appendleft('6')\n",
    "print(d)"
   ]
  },
  {
   "cell_type": "code",
   "execution_count": 66,
   "metadata": {},
   "outputs": [
    {
     "name": "stdout",
     "output_type": "stream",
     "text": [
      "5\n",
      "6\n",
      "deque(['h', 'e', 'l', 'l', 'o', '4'])\n"
     ]
    }
   ],
   "source": [
    "print(d.pop())\n",
    "print(d.popleft())\n",
    "print(d)"
   ]
  },
  {
   "cell_type": "code",
   "execution_count": 67,
   "metadata": {},
   "outputs": [
    {
     "data": {
      "text/plain": [
       "deque([])"
      ]
     },
     "execution_count": 67,
     "metadata": {},
     "output_type": "execute_result"
    }
   ],
   "source": [
    "d.clear()\n",
    "d"
   ]
  },
  {
   "cell_type": "code",
   "execution_count": 69,
   "metadata": {},
   "outputs": [
    {
     "name": "stdout",
     "output_type": "stream",
     "text": [
      "deque(['4', '5', '6', '4', '5', '6', 'h', 'e', 'l', 'l', 'o'])\n"
     ]
    }
   ],
   "source": [
    "d.extend('456')\n",
    "d.extend('hello')\n",
    "print(d)"
   ]
  },
  {
   "cell_type": "code",
   "execution_count": 70,
   "metadata": {},
   "outputs": [
    {
     "data": {
      "text/plain": [
       "deque(['s', 'e', 'y', '4', '5', '6', '4', '5', '6', 'h', 'e', 'l', 'l', 'o'])"
      ]
     },
     "execution_count": 70,
     "metadata": {},
     "output_type": "execute_result"
    }
   ],
   "source": [
    "d.extendleft('yes')\n",
    "d"
   ]
  },
  {
   "cell_type": "code",
   "execution_count": 71,
   "metadata": {},
   "outputs": [
    {
     "name": "stdout",
     "output_type": "stream",
     "text": [
      "deque(['e', 'y', '4', '5', '6', '4', '5', '6', 'h', 'e', 'l', 'l', 'o', 's'])\n"
     ]
    }
   ],
   "source": [
    "d.rotate(-1)\n",
    "print(d)"
   ]
  },
  {
   "cell_type": "code",
   "execution_count": 72,
   "metadata": {},
   "outputs": [
    {
     "name": "stdout",
     "output_type": "stream",
     "text": [
      "deque(['y', '4', '5', '6', '4', '5', '6', 'h', 'e', 'l', 'l', 'o', 's', 'e'])\n"
     ]
    }
   ],
   "source": [
    "d.rotate(-1)\n",
    "print(d)"
   ]
  },
  {
   "cell_type": "code",
   "execution_count": 73,
   "metadata": {},
   "outputs": [
    {
     "name": "stdout",
     "output_type": "stream",
     "text": [
      "deque(['5', '6', '4', '5', '6', 'h', 'e', 'l', 'l', 'o', 's', 'e', 'y', '4'])\n"
     ]
    }
   ],
   "source": [
    "d.rotate(-2)\n",
    "print(d)"
   ]
  },
  {
   "cell_type": "code",
   "execution_count": 74,
   "metadata": {},
   "outputs": [
    {
     "name": "stdout",
     "output_type": "stream",
     "text": [
      "deque(['4', '5', '6', '4', '5', '6', 'h', 'e', 'l', 'l', 'o', 's', 'e', 'y'])\n"
     ]
    }
   ],
   "source": [
    "d.rotate(1)\n",
    "print(d)"
   ]
  },
  {
   "cell_type": "markdown",
   "metadata": {},
   "source": [
    "### Collections\n",
    "Counter, namedtuple, OrderDict, defaultdict, deque"
   ]
  },
  {
   "cell_type": "code",
   "execution_count": null,
   "metadata": {},
   "outputs": [],
   "source": [
    "from collection import Counter"
   ]
  },
  {
   "cell_type": "code",
   "execution_count": 75,
   "metadata": {},
   "outputs": [
    {
     "name": "stdout",
     "output_type": "stream",
     "text": [
      "Counter({'a': 5, 'b': 5, 'c': 4})\n"
     ]
    }
   ],
   "source": [
    "a = 'aaaaabbbbbcccc'\n",
    "my_counter = Counter(a)\n",
    "print(my_counter)"
   ]
  },
  {
   "cell_type": "code",
   "execution_count": 77,
   "metadata": {},
   "outputs": [
    {
     "name": "stdout",
     "output_type": "stream",
     "text": [
      "dict_items([('a', 5), ('b', 5), ('c', 4)])\n"
     ]
    }
   ],
   "source": [
    "print(my_counter.items())"
   ]
  },
  {
   "cell_type": "code",
   "execution_count": 78,
   "metadata": {},
   "outputs": [
    {
     "name": "stdout",
     "output_type": "stream",
     "text": [
      "dict_keys(['a', 'b', 'c'])\n"
     ]
    }
   ],
   "source": [
    "print(my_counter.keys())"
   ]
  },
  {
   "cell_type": "code",
   "execution_count": 79,
   "metadata": {},
   "outputs": [
    {
     "name": "stdout",
     "output_type": "stream",
     "text": [
      "dict_values([5, 5, 4])\n"
     ]
    }
   ],
   "source": [
    "print(my_counter.values())"
   ]
  },
  {
   "cell_type": "code",
   "execution_count": 86,
   "metadata": {},
   "outputs": [
    {
     "name": "stdout",
     "output_type": "stream",
     "text": [
      "[('a', 5), ('b', 5)]\n"
     ]
    }
   ],
   "source": [
    "print(my_counter.most_common(2))"
   ]
  },
  {
   "cell_type": "code",
   "execution_count": 87,
   "metadata": {},
   "outputs": [
    {
     "name": "stdout",
     "output_type": "stream",
     "text": [
      "('a', 5)\n"
     ]
    }
   ],
   "source": [
    "print(my_counter.most_common(2)[0])"
   ]
  },
  {
   "cell_type": "code",
   "execution_count": 84,
   "metadata": {},
   "outputs": [
    {
     "name": "stdout",
     "output_type": "stream",
     "text": [
      "a\n"
     ]
    }
   ],
   "source": [
    "print(my_counter.most_common(2)[0][0])"
   ]
  },
  {
   "cell_type": "code",
   "execution_count": 90,
   "metadata": {},
   "outputs": [
    {
     "name": "stdout",
     "output_type": "stream",
     "text": [
      "['a', 'a', 'a', 'a', 'a', 'b', 'b', 'b', 'b', 'b', 'c', 'c', 'c', 'c']\n"
     ]
    }
   ],
   "source": [
    "print(list(my_counter.elements()))"
   ]
  },
  {
   "cell_type": "code",
   "execution_count": 92,
   "metadata": {},
   "outputs": [],
   "source": [
    "from collections import namedtuple"
   ]
  },
  {
   "cell_type": "code",
   "execution_count": 93,
   "metadata": {},
   "outputs": [
    {
     "name": "stdout",
     "output_type": "stream",
     "text": [
      "Point(x=1, y=-4)\n"
     ]
    }
   ],
   "source": [
    "Point = namedtuple(\"Point\",'x,y')\n",
    "pt = Point(1,-4)\n",
    "print(pt)"
   ]
  },
  {
   "cell_type": "code",
   "execution_count": 94,
   "metadata": {},
   "outputs": [
    {
     "name": "stdout",
     "output_type": "stream",
     "text": [
      "1 -4\n"
     ]
    }
   ],
   "source": [
    "print(pt.x, pt.y)"
   ]
  },
  {
   "cell_type": "code",
   "execution_count": 95,
   "metadata": {},
   "outputs": [],
   "source": [
    "from collections import OrderedDict"
   ]
  },
  {
   "cell_type": "code",
   "execution_count": 96,
   "metadata": {},
   "outputs": [
    {
     "name": "stdout",
     "output_type": "stream",
     "text": [
      "OrderedDict([('a', 1), ('b', 2), ('c', 3), ('d', 4)])\n"
     ]
    }
   ],
   "source": [
    "order_dict = OrderedDict()\n",
    "order_dict['a'] = 1\n",
    "order_dict['b'] = 2\n",
    "order_dict['c'] = 3\n",
    "order_dict['d'] = 4\n",
    "\n",
    "print(order_dict)"
   ]
  },
  {
   "cell_type": "code",
   "execution_count": 97,
   "metadata": {},
   "outputs": [],
   "source": [
    "from collections import defaultdict"
   ]
  },
  {
   "cell_type": "code",
   "execution_count": 99,
   "metadata": {},
   "outputs": [
    {
     "name": "stdout",
     "output_type": "stream",
     "text": [
      "defaultdict(<class 'int'>, {'a': 1, 'b': 2, 'c': 3, 'd': 4})\n"
     ]
    }
   ],
   "source": [
    "d = defaultdict(int)\n",
    "d['a'] = 1\n",
    "d['b'] = 2\n",
    "d['c'] = 3\n",
    "d['d'] = 4\n",
    "\n",
    "print(d)"
   ]
  },
  {
   "cell_type": "code",
   "execution_count": 100,
   "metadata": {},
   "outputs": [
    {
     "name": "stdout",
     "output_type": "stream",
     "text": [
      "0\n"
     ]
    }
   ],
   "source": [
    "print(d['e'])"
   ]
  },
  {
   "cell_type": "code",
   "execution_count": 103,
   "metadata": {},
   "outputs": [
    {
     "name": "stdout",
     "output_type": "stream",
     "text": [
      "0.0\n"
     ]
    }
   ],
   "source": [
    "d = defaultdict(float)\n",
    "d['a'] = 1\n",
    "d['b'] = 2\n",
    "d['c'] = 3\n",
    "d['d'] = 4\n",
    "\n",
    "print(d['e'])"
   ]
  },
  {
   "cell_type": "code",
   "execution_count": 104,
   "metadata": {},
   "outputs": [],
   "source": [
    "from collections import deque"
   ]
  },
  {
   "cell_type": "code",
   "execution_count": 105,
   "metadata": {},
   "outputs": [],
   "source": [
    "d = deque()"
   ]
  },
  {
   "cell_type": "code",
   "execution_count": 106,
   "metadata": {},
   "outputs": [
    {
     "name": "stdout",
     "output_type": "stream",
     "text": [
      "deque([1, 2, 3])\n"
     ]
    }
   ],
   "source": [
    "d.append(1)\n",
    "d.append(2)\n",
    "d.append(3)\n",
    "print(d)"
   ]
  },
  {
   "cell_type": "code",
   "execution_count": 107,
   "metadata": {},
   "outputs": [
    {
     "name": "stdout",
     "output_type": "stream",
     "text": [
      "deque([0, 1, 2, 3])\n"
     ]
    }
   ],
   "source": [
    "d.appendleft(0)\n",
    "print(d)"
   ]
  },
  {
   "cell_type": "code",
   "execution_count": 108,
   "metadata": {},
   "outputs": [
    {
     "name": "stdout",
     "output_type": "stream",
     "text": [
      "deque([0, 1, 2])\n"
     ]
    }
   ],
   "source": [
    "d.pop()\n",
    "print(d)"
   ]
  },
  {
   "cell_type": "code",
   "execution_count": 109,
   "metadata": {},
   "outputs": [
    {
     "name": "stdout",
     "output_type": "stream",
     "text": [
      "deque([1, 2])\n"
     ]
    }
   ],
   "source": [
    "d.popleft()\n",
    "print(d)"
   ]
  },
  {
   "cell_type": "code",
   "execution_count": 110,
   "metadata": {},
   "outputs": [],
   "source": [
    "d.clear()"
   ]
  },
  {
   "cell_type": "code",
   "execution_count": 114,
   "metadata": {},
   "outputs": [
    {
     "name": "stdout",
     "output_type": "stream",
     "text": [
      "deque([89, 90, 2, 1, 5, 7, 1, 5, 7, 89])\n"
     ]
    }
   ],
   "source": [
    "d.extend([1,5,7,89])\n",
    "print(d)"
   ]
  },
  {
   "cell_type": "code",
   "execution_count": 115,
   "metadata": {},
   "outputs": [
    {
     "name": "stdout",
     "output_type": "stream",
     "text": [
      "deque([90, 2, 89, 90, 2, 1, 5, 7, 1, 5, 7, 89])\n"
     ]
    }
   ],
   "source": [
    "d.extendleft([2,90])\n",
    "print(d)"
   ]
  },
  {
   "cell_type": "code",
   "execution_count": 116,
   "metadata": {},
   "outputs": [
    {
     "name": "stdout",
     "output_type": "stream",
     "text": [
      "deque([89, 90, 2, 89, 90, 2, 1, 5, 7, 1, 5, 7])\n"
     ]
    }
   ],
   "source": [
    "d.rotate(1)\n",
    "print(d)"
   ]
  },
  {
   "cell_type": "code",
   "execution_count": 117,
   "metadata": {},
   "outputs": [
    {
     "name": "stdout",
     "output_type": "stream",
     "text": [
      "deque([90, 2, 89, 90, 2, 1, 5, 7, 1, 5, 7, 89])\n"
     ]
    }
   ],
   "source": [
    "d.rotate(-1)\n",
    "print(d)"
   ]
  },
  {
   "cell_type": "code",
   "execution_count": null,
   "metadata": {},
   "outputs": [],
   "source": []
  }
 ],
 "metadata": {
  "kernelspec": {
   "display_name": "Python 3",
   "language": "python",
   "name": "python3"
  },
  "language_info": {
   "codemirror_mode": {
    "name": "ipython",
    "version": 3
   },
   "file_extension": ".py",
   "mimetype": "text/x-python",
   "name": "python",
   "nbconvert_exporter": "python",
   "pygments_lexer": "ipython3",
   "version": "3.7.3"
  },
  "toc": {
   "base_numbering": 1,
   "nav_menu": {},
   "number_sections": true,
   "sideBar": true,
   "skip_h1_title": false,
   "title_cell": "Table of Contents",
   "title_sidebar": "Contents",
   "toc_cell": false,
   "toc_position": {},
   "toc_section_display": true,
   "toc_window_display": false
  }
 },
 "nbformat": 4,
 "nbformat_minor": 4
}
