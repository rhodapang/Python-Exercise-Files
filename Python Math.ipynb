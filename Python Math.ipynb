{
 "cells": [
  {
   "cell_type": "code",
   "execution_count": 1,
   "metadata": {},
   "outputs": [],
   "source": [
    "import math"
   ]
  },
  {
   "cell_type": "markdown",
   "metadata": {},
   "source": [
    "### Trigonometry, ceiling, floor and constants"
   ]
  },
  {
   "cell_type": "code",
   "execution_count": 18,
   "metadata": {},
   "outputs": [
    {
     "data": {
      "text/plain": [
       "3.141592653589793"
      ]
     },
     "execution_count": 18,
     "metadata": {},
     "output_type": "execute_result"
    }
   ],
   "source": [
    "math.pi"
   ]
  },
  {
   "cell_type": "code",
   "execution_count": 3,
   "metadata": {},
   "outputs": [
    {
     "data": {
      "text/plain": [
       "2.718281828459045"
      ]
     },
     "execution_count": 3,
     "metadata": {},
     "output_type": "execute_result"
    }
   ],
   "source": [
    "math.e"
   ]
  },
  {
   "cell_type": "code",
   "execution_count": 4,
   "metadata": {},
   "outputs": [
    {
     "data": {
      "text/plain": [
       "nan"
      ]
     },
     "execution_count": 4,
     "metadata": {},
     "output_type": "execute_result"
    }
   ],
   "source": [
    "math.nan"
   ]
  },
  {
   "cell_type": "code",
   "execution_count": 5,
   "metadata": {},
   "outputs": [
    {
     "data": {
      "text/plain": [
       "inf"
      ]
     },
     "execution_count": 5,
     "metadata": {},
     "output_type": "execute_result"
    }
   ],
   "source": [
    "math.inf"
   ]
  },
  {
   "cell_type": "code",
   "execution_count": 6,
   "metadata": {},
   "outputs": [
    {
     "name": "stdout",
     "output_type": "stream",
     "text": [
      "0.7071067811865476\n"
     ]
    }
   ],
   "source": [
    "obst_direction = math.cos(math.pi / 4)\n",
    "print(obst_direction)"
   ]
  },
  {
   "cell_type": "code",
   "execution_count": 7,
   "metadata": {},
   "outputs": [
    {
     "name": "stdout",
     "output_type": "stream",
     "text": [
      "0.7071067811865476\n"
     ]
    }
   ],
   "source": [
    "print(math.sin(math.pi / 4))"
   ]
  },
  {
   "cell_type": "code",
   "execution_count": 9,
   "metadata": {},
   "outputs": [
    {
     "name": "stdout",
     "output_type": "stream",
     "text": [
      "11\n",
      "7\n"
     ]
    }
   ],
   "source": [
    "# ceiling and floor\n",
    "cookies = 10.3\n",
    "candy = 7\n",
    "\n",
    "print(math.ceil(cookies))\n",
    "print(math.ceil(candy))"
   ]
  },
  {
   "cell_type": "code",
   "execution_count": 10,
   "metadata": {},
   "outputs": [
    {
     "name": "stdout",
     "output_type": "stream",
     "text": [
      "47\n"
     ]
    }
   ],
   "source": [
    "age = 47.9\n",
    "print(math.floor(age))"
   ]
  },
  {
   "cell_type": "code",
   "execution_count": 11,
   "metadata": {},
   "outputs": [
    {
     "name": "stdout",
     "output_type": "stream",
     "text": [
      "6\n"
     ]
    }
   ],
   "source": [
    "# factorial, square root \n",
    "print(math.factorial(3))"
   ]
  },
  {
   "cell_type": "code",
   "execution_count": 12,
   "metadata": {},
   "outputs": [
    {
     "data": {
      "text/plain": [
       "8.0"
      ]
     },
     "execution_count": 12,
     "metadata": {},
     "output_type": "execute_result"
    }
   ],
   "source": [
    "math.sqrt(64)"
   ]
  },
  {
   "cell_type": "code",
   "execution_count": 13,
   "metadata": {},
   "outputs": [
    {
     "data": {
      "text/plain": [
       "4"
      ]
     },
     "execution_count": 13,
     "metadata": {},
     "output_type": "execute_result"
    }
   ],
   "source": [
    "# Greatest Common Denominator GCD\n",
    "math.gcd(52,8)"
   ]
  },
  {
   "cell_type": "code",
   "execution_count": 14,
   "metadata": {},
   "outputs": [
    {
     "data": {
      "text/plain": [
       "3"
      ]
     },
     "execution_count": 14,
     "metadata": {},
     "output_type": "execute_result"
    }
   ],
   "source": [
    "math.gcd(6,9)"
   ]
  },
  {
   "cell_type": "code",
   "execution_count": 15,
   "metadata": {},
   "outputs": [
    {
     "data": {
      "text/plain": [
       "6.283185307179586"
      ]
     },
     "execution_count": 15,
     "metadata": {},
     "output_type": "execute_result"
    }
   ],
   "source": [
    "# Degrees and Radians\n",
    "\n",
    "math.radians(360)"
   ]
  },
  {
   "cell_type": "code",
   "execution_count": 16,
   "metadata": {},
   "outputs": [
    {
     "data": {
      "text/plain": [
       "6.283185307179586"
      ]
     },
     "execution_count": 16,
     "metadata": {},
     "output_type": "execute_result"
    }
   ],
   "source": [
    "math.pi *2"
   ]
  },
  {
   "cell_type": "code",
   "execution_count": 17,
   "metadata": {},
   "outputs": [
    {
     "name": "stdout",
     "output_type": "stream",
     "text": [
      "360.0\n"
     ]
    }
   ],
   "source": [
    "print(math.degrees(math.pi*2))"
   ]
  },
  {
   "cell_type": "markdown",
   "metadata": {},
   "source": [
    "### Random "
   ]
  },
  {
   "cell_type": "code",
   "execution_count": 19,
   "metadata": {},
   "outputs": [],
   "source": [
    "import random"
   ]
  },
  {
   "cell_type": "code",
   "execution_count": 20,
   "metadata": {},
   "outputs": [
    {
     "name": "stdout",
     "output_type": "stream",
     "text": [
      "0.44894409173563143\n"
     ]
    }
   ],
   "source": [
    "# Random number between zero and one\n",
    "print(random.random())"
   ]
  },
  {
   "cell_type": "code",
   "execution_count": 22,
   "metadata": {},
   "outputs": [
    {
     "data": {
      "text/plain": [
       "0"
      ]
     },
     "execution_count": 22,
     "metadata": {},
     "output_type": "execute_result"
    }
   ],
   "source": [
    "# random number is 0 or 1\n",
    "decider = random.randrange(2)\n",
    "decider"
   ]
  },
  {
   "cell_type": "code",
   "execution_count": 23,
   "metadata": {},
   "outputs": [
    {
     "data": {
      "text/plain": [
       "0"
      ]
     },
     "execution_count": 23,
     "metadata": {},
     "output_type": "execute_result"
    }
   ],
   "source": [
    "# random number is 0 or 1\n",
    "decider = random.randrange(2)\n",
    "decider"
   ]
  },
  {
   "cell_type": "code",
   "execution_count": 24,
   "metadata": {},
   "outputs": [
    {
     "data": {
      "text/plain": [
       "0"
      ]
     },
     "execution_count": 24,
     "metadata": {},
     "output_type": "execute_result"
    }
   ],
   "source": [
    "# random number is 0 or 1\n",
    "decider = random.randrange(2)\n",
    "decider"
   ]
  },
  {
   "cell_type": "code",
   "execution_count": 25,
   "metadata": {},
   "outputs": [
    {
     "data": {
      "text/plain": [
       "0"
      ]
     },
     "execution_count": 25,
     "metadata": {},
     "output_type": "execute_result"
    }
   ],
   "source": [
    "# random number is 0 or 1\n",
    "decider = random.randrange(2)\n",
    "decider"
   ]
  },
  {
   "cell_type": "code",
   "execution_count": 26,
   "metadata": {},
   "outputs": [
    {
     "data": {
      "text/plain": [
       "1"
      ]
     },
     "execution_count": 26,
     "metadata": {},
     "output_type": "execute_result"
    }
   ],
   "source": [
    "# random number is 0 or 1\n",
    "decider = random.randrange(2)\n",
    "decider"
   ]
  },
  {
   "cell_type": "code",
   "execution_count": 27,
   "metadata": {},
   "outputs": [
    {
     "data": {
      "text/plain": [
       "0"
      ]
     },
     "execution_count": 27,
     "metadata": {},
     "output_type": "execute_result"
    }
   ],
   "source": [
    "# random number is 0 or 1,2\n",
    "decider = random.randrange(3)\n",
    "decider"
   ]
  },
  {
   "cell_type": "code",
   "execution_count": 39,
   "metadata": {},
   "outputs": [
    {
     "name": "stdout",
     "output_type": "stream",
     "text": [
      "the number of heads:45,the number of tail:55\n",
      "the number of heads:46,the number of tail:54\n",
      "the number of heads:48,the number of tail:52\n",
      "the number of heads:56,the number of tail:44\n",
      "the number of heads:54,the number of tail:46\n",
      "the number of heads:47,the number of tail:53\n",
      "the number of heads:43,the number of tail:57\n",
      "the number of heads:57,the number of tail:43\n",
      "the number of heads:38,the number of tail:62\n",
      "the number of heads:50,the number of tail:50\n"
     ]
    }
   ],
   "source": [
    "# conduct a coin test to see how many heads and tails would get after \n",
    "# 1000 times flipped. There are 10 times experiments\n",
    "flip_times = 100\n",
    "exp_times = 10\n",
    "for _ in range(exp_times):\n",
    "    heads = 0\n",
    "    tail = 0\n",
    "    for _ in range(flip_times):\n",
    "        decider = random.randrange(2)\n",
    "        if decider == 1:\n",
    "            heads += 1\n",
    "        else: \n",
    "            tail += 1 \n",
    "    print('the number of heads:{},the number of tail:{}'.format(heads, tail))"
   ]
  },
  {
   "cell_type": "code",
   "execution_count": 44,
   "metadata": {},
   "outputs": [
    {
     "name": "stdout",
     "output_type": "stream",
     "text": [
      "You rolled a 1\n",
      "You rolled a 2\n",
      "You rolled a 5\n",
      "You rolled a 5\n"
     ]
    }
   ],
   "source": [
    "print(\"You rolled a \" + str(random.randrange(1,7)))\n",
    "print(\"You rolled a \" + str(random.randrange(1,7)))\n",
    "print(\"You rolled a \" + str(random.randrange(1,7)))\n",
    "print(\"You rolled a \" + str(random.randrange(1,7)))"
   ]
  },
  {
   "cell_type": "code",
   "execution_count": 46,
   "metadata": {},
   "outputs": [
    {
     "data": {
      "text/plain": [
       "[50, 36, 51, 64, 93]"
      ]
     },
     "execution_count": 46,
     "metadata": {},
     "output_type": "execute_result"
    }
   ],
   "source": [
    "# Random sample: return a list of number in the first parameter range(population) \n",
    "lotteryWinner = random.sample(range(100), 5)\n",
    "lotteryWinner"
   ]
  },
  {
   "cell_type": "code",
   "execution_count": 47,
   "metadata": {},
   "outputs": [
    {
     "data": {
      "text/plain": [
       "'cat'"
      ]
     },
     "execution_count": 47,
     "metadata": {},
     "output_type": "execute_result"
    }
   ],
   "source": [
    "# random choice \n",
    "\n",
    "possiblePets = ['cat','dog','fish']\n",
    "random.choice(possiblePets)"
   ]
  },
  {
   "cell_type": "code",
   "execution_count": 53,
   "metadata": {},
   "outputs": [
    {
     "data": {
      "text/plain": [
       "['king', 'Ace', 'queen', 'jack']"
      ]
     },
     "execution_count": 53,
     "metadata": {},
     "output_type": "execute_result"
    }
   ],
   "source": [
    "cards = ['jack','queen','king','Ace']\n",
    "random.shuffle(cards)\n",
    "cards"
   ]
  },
  {
   "cell_type": "markdown",
   "metadata": {},
   "source": [
    "### Statistics Models"
   ]
  },
  {
   "cell_type": "code",
   "execution_count": 54,
   "metadata": {},
   "outputs": [],
   "source": [
    "import statistics"
   ]
  },
  {
   "cell_type": "code",
   "execution_count": 56,
   "metadata": {},
   "outputs": [
    {
     "ename": "StatisticsError",
     "evalue": "no unique mode; found 2 equally common values",
     "output_type": "error",
     "traceback": [
      "\u001b[1;31m---------------------------------------------------------------------------\u001b[0m",
      "\u001b[1;31mStatisticsError\u001b[0m                           Traceback (most recent call last)",
      "\u001b[1;32m<ipython-input-56-c2f4c4ac9b28>\u001b[0m in \u001b[0;36m<module>\u001b[1;34m\u001b[0m\n\u001b[0;32m      1\u001b[0m \u001b[0magesData\u001b[0m \u001b[1;33m=\u001b[0m \u001b[1;33m[\u001b[0m\u001b[1;36m10\u001b[0m\u001b[1;33m,\u001b[0m\u001b[1;36m13\u001b[0m\u001b[1;33m,\u001b[0m\u001b[1;36m14\u001b[0m\u001b[1;33m,\u001b[0m\u001b[1;36m12\u001b[0m\u001b[1;33m,\u001b[0m\u001b[1;36m11\u001b[0m\u001b[1;33m,\u001b[0m\u001b[1;36m10\u001b[0m\u001b[1;33m,\u001b[0m\u001b[1;36m15\u001b[0m\u001b[1;33m,\u001b[0m\u001b[1;36m11\u001b[0m\u001b[1;33m]\u001b[0m\u001b[1;33m\u001b[0m\u001b[1;33m\u001b[0m\u001b[0m\n\u001b[0;32m      2\u001b[0m \u001b[0mstatistics\u001b[0m\u001b[1;33m.\u001b[0m\u001b[0mmean\u001b[0m\u001b[1;33m(\u001b[0m\u001b[0magesData\u001b[0m\u001b[1;33m)\u001b[0m\u001b[1;33m\u001b[0m\u001b[1;33m\u001b[0m\u001b[0m\n\u001b[1;32m----> 3\u001b[1;33m \u001b[0mstatistics\u001b[0m\u001b[1;33m.\u001b[0m\u001b[0mmode\u001b[0m\u001b[1;33m(\u001b[0m\u001b[0magesData\u001b[0m\u001b[1;33m)\u001b[0m\u001b[1;33m[\u001b[0m\u001b[1;36m0\u001b[0m\u001b[1;33m]\u001b[0m\u001b[1;33m\u001b[0m\u001b[1;33m\u001b[0m\u001b[0m\n\u001b[0m\u001b[0;32m      4\u001b[0m \u001b[0mstatistics\u001b[0m\u001b[1;33m.\u001b[0m\u001b[0mstdev\u001b[0m\u001b[1;33m(\u001b[0m\u001b[0magesData\u001b[0m\u001b[1;33m)\u001b[0m\u001b[1;33m\u001b[0m\u001b[1;33m\u001b[0m\u001b[0m\n",
      "\u001b[1;32m~\\Anaconda3\\lib\\statistics.py\u001b[0m in \u001b[0;36mmode\u001b[1;34m(data)\u001b[0m\n\u001b[0;32m    504\u001b[0m     \u001b[1;32melif\u001b[0m \u001b[0mtable\u001b[0m\u001b[1;33m:\u001b[0m\u001b[1;33m\u001b[0m\u001b[1;33m\u001b[0m\u001b[0m\n\u001b[0;32m    505\u001b[0m         raise StatisticsError(\n\u001b[1;32m--> 506\u001b[1;33m                 \u001b[1;34m'no unique mode; found %d equally common values'\u001b[0m \u001b[1;33m%\u001b[0m \u001b[0mlen\u001b[0m\u001b[1;33m(\u001b[0m\u001b[0mtable\u001b[0m\u001b[1;33m)\u001b[0m\u001b[1;33m\u001b[0m\u001b[1;33m\u001b[0m\u001b[0m\n\u001b[0m\u001b[0;32m    507\u001b[0m                 )\n\u001b[0;32m    508\u001b[0m     \u001b[1;32melse\u001b[0m\u001b[1;33m:\u001b[0m\u001b[1;33m\u001b[0m\u001b[1;33m\u001b[0m\u001b[0m\n",
      "\u001b[1;31mStatisticsError\u001b[0m: no unique mode; found 2 equally common values"
     ]
    }
   ],
   "source": [
    "agesData = [10,13,14,12,11,10,15,11]\n",
    "statistics.mean(agesData)\n",
    "statistics.mode(agesData)\n",
    "statistics.stdev(agesData)"
   ]
  },
  {
   "cell_type": "code",
   "execution_count": 57,
   "metadata": {},
   "outputs": [
    {
     "name": "stdout",
     "output_type": "stream",
     "text": [
      "1\n"
     ]
    }
   ],
   "source": [
    "from scipy import stats as s\n",
    "a=[1,1,2,2,3]\n",
    "print(int(s.mode(a)[0]))"
   ]
  },
  {
   "cell_type": "code",
   "execution_count": 60,
   "metadata": {},
   "outputs": [
    {
     "name": "stdout",
     "output_type": "stream",
     "text": [
      "12\n",
      "1.8516401995451028\n"
     ]
    }
   ],
   "source": [
    "agesData = [10,13,14,12,11,10,15,11]\n",
    "print(statistics.mean(agesData))\n",
    "#statistics.mode(agesData)\n",
    "print(statistics.stdev(agesData))"
   ]
  },
  {
   "cell_type": "code",
   "execution_count": 61,
   "metadata": {},
   "outputs": [
    {
     "name": "stdout",
     "output_type": "stream",
     "text": [
      "[10, 10, 11, 11, 12, 13, 14, 15]\n"
     ]
    }
   ],
   "source": [
    "print(sorted(agesData))"
   ]
  },
  {
   "cell_type": "code",
   "execution_count": 65,
   "metadata": {},
   "outputs": [
    {
     "name": "stdout",
     "output_type": "stream",
     "text": [
      "3.4285714285714284\n",
      "1.8516401995451028\n",
      "1.8516401995451028\n"
     ]
    }
   ],
   "source": [
    "print(statistics.variance(agesData))\n",
    "print(statistics.stdev(agesData))\n",
    "print(math.sqrt(statistics.variance(agesData)))"
   ]
  },
  {
   "cell_type": "markdown",
   "metadata": {},
   "source": [
    "### Itertools"
   ]
  },
  {
   "cell_type": "code",
   "execution_count": 68,
   "metadata": {},
   "outputs": [],
   "source": [
    "import itertools"
   ]
  },
  {
   "cell_type": "code",
   "execution_count": 70,
   "metadata": {
    "collapsed": true
   },
   "outputs": [
    {
     "name": "stdout",
     "output_type": "stream",
     "text": [
      "50\n",
      "51\n",
      "52\n",
      "53\n",
      "54\n",
      "55\n",
      "56\n",
      "57\n",
      "58\n",
      "59\n",
      "60\n",
      "61\n",
      "62\n",
      "63\n",
      "64\n",
      "65\n",
      "66\n",
      "67\n",
      "68\n",
      "69\n",
      "70\n",
      "71\n",
      "72\n",
      "73\n",
      "74\n",
      "75\n",
      "76\n",
      "77\n",
      "78\n",
      "79\n",
      "80\n"
     ]
    }
   ],
   "source": [
    "# Infinite Counting\n",
    "\n",
    "for x in itertools.count(50):\n",
    "    print(x)\n",
    "    if x == 80:\n",
    "        break "
   ]
  },
  {
   "cell_type": "code",
   "execution_count": 72,
   "metadata": {},
   "outputs": [
    {
     "name": "stdout",
     "output_type": "stream",
     "text": [
      "50\n",
      "55\n",
      "60\n",
      "65\n",
      "70\n",
      "75\n",
      "80\n"
     ]
    }
   ],
   "source": [
    "for x in itertools.count(50,5):\n",
    "    print(x)\n",
    "    if x == 80:\n",
    "        break "
   ]
  },
  {
   "cell_type": "code",
   "execution_count": 78,
   "metadata": {},
   "outputs": [
    {
     "name": "stdout",
     "output_type": "stream",
     "text": [
      "a\n",
      "b\n",
      "c\n",
      "d\n",
      "a\n",
      "b\n",
      "c\n",
      "d\n",
      "a\n",
      "b\n",
      "c\n",
      "d\n",
      "a\n",
      "b\n",
      "c\n",
      "d\n",
      "a\n",
      "b\n",
      "c\n",
      "d\n"
     ]
    }
   ],
   "source": [
    "x = 1\n",
    "for c in itertools.cycle(\"abcd\"):\n",
    "    print(c)\n",
    "    x += 1\n",
    "    if x > 20: break"
   ]
  },
  {
   "cell_type": "code",
   "execution_count": 79,
   "metadata": {},
   "outputs": [
    {
     "name": "stdout",
     "output_type": "stream",
     "text": [
      "True\n",
      "True\n",
      "True\n",
      "True\n",
      "True\n",
      "True\n",
      "True\n",
      "True\n",
      "True\n",
      "True\n"
     ]
    }
   ],
   "source": [
    "# Infinite Repeating\n",
    "\n",
    "for r in itertools.repeat(True):\n",
    "    print(r)\n",
    "    x += 1\n",
    "    if x > 30: break "
   ]
  },
  {
   "cell_type": "code",
   "execution_count": 80,
   "metadata": {},
   "outputs": [
    {
     "name": "stdout",
     "output_type": "stream",
     "text": [
      "(1, 2, 3)\n",
      "(1, 3, 2)\n",
      "(2, 1, 3)\n",
      "(2, 3, 1)\n",
      "(3, 1, 2)\n",
      "(3, 2, 1)\n"
     ]
    }
   ],
   "source": [
    "#Permutation: the order matters - some copies with same inputs but in different order \n",
    "election = {1:'Barb', 2:'Karen', 3:'Erin'}\n",
    "for p in itertools.permutations(election):\n",
    "    print(p)\n",
    "    "
   ]
  },
  {
   "cell_type": "code",
   "execution_count": 81,
   "metadata": {},
   "outputs": [
    {
     "name": "stdout",
     "output_type": "stream",
     "text": [
      "('Barb', 'Karen', 'Erin')\n",
      "('Barb', 'Erin', 'Karen')\n",
      "('Karen', 'Barb', 'Erin')\n",
      "('Karen', 'Erin', 'Barb')\n",
      "('Erin', 'Barb', 'Karen')\n",
      "('Erin', 'Karen', 'Barb')\n"
     ]
    }
   ],
   "source": [
    "for p in itertools.permutations(election.values()):\n",
    "    print(p)"
   ]
  },
  {
   "cell_type": "code",
   "execution_count": 84,
   "metadata": {},
   "outputs": [
    {
     "name": "stdout",
     "output_type": "stream",
     "text": [
      "('red', 'blue', 'green')\n",
      "('red', 'blue', 'purple')\n",
      "('red', 'blue', 'yellow')\n",
      "('red', 'blue', 'pink')\n",
      "('red', 'green', 'purple')\n",
      "('red', 'green', 'yellow')\n",
      "('red', 'green', 'pink')\n",
      "('red', 'purple', 'yellow')\n",
      "('red', 'purple', 'pink')\n",
      "('red', 'yellow', 'pink')\n",
      "('blue', 'green', 'purple')\n",
      "('blue', 'green', 'yellow')\n",
      "('blue', 'green', 'pink')\n",
      "('blue', 'purple', 'yellow')\n",
      "('blue', 'purple', 'pink')\n",
      "('blue', 'yellow', 'pink')\n",
      "('green', 'purple', 'yellow')\n",
      "('green', 'purple', 'pink')\n",
      "('green', 'yellow', 'pink')\n",
      "('purple', 'yellow', 'pink')\n"
     ]
    }
   ],
   "source": [
    "# combination: order doesn't matter. Not set will have the same exact elements as another\n",
    "\n",
    "colorsForPainting = ['red','blue','green','purple','yellow','pink']\n",
    "for c in itertools.combinations(colorsForPainting,3):\n",
    "    print(c)"
   ]
  },
  {
   "cell_type": "code",
   "execution_count": 85,
   "metadata": {},
   "outputs": [
    {
     "name": "stdout",
     "output_type": "stream",
     "text": [
      "True\n",
      "False\n",
      "The bigger number is bigger\n",
      "The kitten weighs less than the tiger\n",
      "The mouse weighs the least\n",
      "False\n",
      "False\n",
      "True\n"
     ]
    }
   ],
   "source": [
    "# Python Comparison Operators\n",
    "\n",
    "# TIPS:\n",
    "# == --> is equal to\n",
    "# <= --> is less than or equal to\n",
    "# >= --> is greater than or equal to\n",
    "# < --> is less than\n",
    "# > --> is greater than\n",
    "\n",
    "\n",
    "\n",
    "# < --> is less than\n",
    "print(10 < 75)\n",
    "print(75 < 10)\n",
    "\n",
    "if 10 < 75:\n",
    "    print(\"The bigger number is bigger\")\n",
    "\n",
    "# == --> is equal to\n",
    "kitten = 10\n",
    "tiger = 75\n",
    "\n",
    "if kitten < tiger:\n",
    "    print(\"The kitten weighs less than the tiger\")\n",
    "\n",
    "# < --> is less than\n",
    "mouse = 1\n",
    "if mouse < kitten and mouse < tiger:\n",
    "    print(\"The mouse weighs the least\")\n",
    "\n",
    "\n",
    "#False --> 0\n",
    "#True --> 1\n",
    "# > --> is greater than\n",
    "print(False > True)\n",
    "\n",
    "# Looking for first mismatched letter\n",
    "# A - Z --> 1 - 26\n",
    "# > --> is greater than\n",
    "print(\"Jennifer\" > \"Jenny\")\n",
    "\n",
    "# A - Z --> 1 - 26\n",
    "# <= --> is less than or equal to\n",
    "print('a' <= 'b')"
   ]
  },
  {
   "cell_type": "code",
   "execution_count": 87,
   "metadata": {},
   "outputs": [
    {
     "name": "stdout",
     "output_type": "stream",
     "text": [
      "[0, 1, 2, 3, 4, 5, 6, 7, 8, 9, 10, 11, 12, 13, 14, 15, 16, 17, 18, 19, 20, 21, 22, 23, 24, 25, 26, 27, 28, 29]\n",
      "Contestant 0 is here\n",
      "Contestant 1 is here\n",
      "Contestant 2 is here\n",
      "Contestant 3 is here\n",
      "Contestant 4 is here\n",
      "Contestant 5 is here\n",
      "Contestant 6 is here\n",
      "Contestant 7 is here\n",
      "Contestant 8 is here\n",
      "Contestant 9 is here\n",
      "Contestant 10 is here\n",
      "Contestant 11 is here\n",
      "Contestant 12 is here\n",
      "Contestant 13 is here\n",
      "Contestant 14 is here\n",
      "Contestant 15 is here\n",
      "Contestant 16 is here\n",
      "Contestant 17 is here\n",
      "Contestant 18 is here\n",
      "Contestant 19 is here\n",
      "Contestant 20 is here\n",
      "Contestant 21 is here\n",
      "Contestant 22 is here\n",
      "Contestant 23 is here\n",
      "Contestant 24 is here\n",
      "Contestant 25 is here\n",
      "Contestant 26 is here\n",
      "Contestant 27 is here\n",
      "Contestant 28 is here\n",
      "Contestant 29 is here\n",
      "[7, 12, 17, 22, 27]\n"
     ]
    }
   ],
   "source": [
    "# Range -> range instance that holds all nums counting by one between 0 and first input\n",
    "# List -> lists numbers from the inputted tuple\n",
    "\n",
    "numberedContestants = range(30)\n",
    "\n",
    "print(list(numberedContestants))\n",
    "\n",
    "for c in list(numberedContestants):\n",
    "    print(\"Contestant \" + str(c) + \" is here\")\n",
    "\n",
    "luckyWinners = range(7, 30, 5)\n",
    "\n",
    "print(list(luckyWinners))"
   ]
  },
  {
   "cell_type": "code",
   "execution_count": 88,
   "metadata": {},
   "outputs": [
    {
     "name": "stdout",
     "output_type": "stream",
     "text": [
      "4\n",
      "-19\n",
      "Kathryn\n",
      "Angela\n",
      "10\n",
      "14\n",
      "Katie\n"
     ]
    }
   ],
   "source": [
    "playerOneScore = 10\n",
    "playerTwoScore = 4\n",
    "print(min(playerOneScore, playerTwoScore))\n",
    "print(min(0, 12, -19))\n",
    "\n",
    "print(min(\"Kathryn\", \"Katie\"))\n",
    "print(min(\"Angela\", \"Bob\"))\n",
    "\n",
    "print(max(playerOneScore, playerTwoScore))\n",
    "playerThreeScore = 14\n",
    "print(max(playerThreeScore, playerTwoScore, playerOneScore))\n",
    "print(max(\"Kathryn\", \"Katie\"))"
   ]
  },
  {
   "cell_type": "code",
   "execution_count": null,
   "metadata": {},
   "outputs": [],
   "source": []
  }
 ],
 "metadata": {
  "kernelspec": {
   "display_name": "Python 3",
   "language": "python",
   "name": "python3"
  },
  "language_info": {
   "codemirror_mode": {
    "name": "ipython",
    "version": 3
   },
   "file_extension": ".py",
   "mimetype": "text/x-python",
   "name": "python",
   "nbconvert_exporter": "python",
   "pygments_lexer": "ipython3",
   "version": "3.7.3"
  },
  "toc": {
   "base_numbering": 1,
   "nav_menu": {},
   "number_sections": true,
   "sideBar": true,
   "skip_h1_title": false,
   "title_cell": "Table of Contents",
   "title_sidebar": "Contents",
   "toc_cell": false,
   "toc_position": {},
   "toc_section_display": true,
   "toc_window_display": false
  }
 },
 "nbformat": 4,
 "nbformat_minor": 4
}
