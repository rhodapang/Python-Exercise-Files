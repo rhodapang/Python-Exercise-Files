{
 "cells": [
  {
   "cell_type": "markdown",
   "metadata": {},
   "source": [
    "### Class"
   ]
  },
  {
   "cell_type": "code",
   "execution_count": null,
   "metadata": {},
   "outputs": [],
   "source": [
    "class Duck:\n",
    "    sound = 'Quack quack.'\n",
    "    movement = 'Walks like a duck.'\n",
    "\n",
    "    def quack(self):\n",
    "        print(self.sound)\n",
    "\n",
    "    def move(self):\n",
    "        print(self.movement)\n",
    "\n",
    "def main():\n",
    "    donald = Duck()\n",
    "    donald.quack()\n",
    "    donald.move()\n",
    "\n",
    "if __name__ == '__main__': main()\n"
   ]
  },
  {
   "cell_type": "code",
   "execution_count": 1,
   "metadata": {},
   "outputs": [
    {
     "name": "stdout",
     "output_type": "stream",
     "text": [
      "Quack quack\n",
      "Walks like a duck.\n"
     ]
    }
   ],
   "source": [
    "class Duck:\n",
    "    sound = \"Quack quack\"\n",
    "    movement = \"Walks like a duck.\"\n",
    "    \n",
    "    def quack(self):\n",
    "        print(self.sound)\n",
    "\n",
    "    def move(self):\n",
    "        print(self.movement)\n",
    "        \n",
    "def main():\n",
    "    donald = Duck()\n",
    "    donald.quack()\n",
    "    donald.move()\n",
    "\n",
    "if __name__ == '__main__':\n",
    "    main()"
   ]
  },
  {
   "cell_type": "markdown",
   "metadata": {},
   "source": [
    "### Constructor"
   ]
  },
  {
   "cell_type": "code",
   "execution_count": 15,
   "metadata": {},
   "outputs": [
    {
     "name": "stdout",
     "output_type": "stream",
     "text": [
      "The kitten is named \"fluffy\" and says \"rwar\".\n",
      "The duck is named \"donald\" and says \"quack\".\n",
      "The velociraptor is named \"veronica\" and says \"hello\".\n"
     ]
    }
   ],
   "source": [
    "class Animal:\n",
    "    def __init__(self, type, name, sound):\n",
    "        self._type = type\n",
    "        self._name = name\n",
    "        self._sound = sound\n",
    "\n",
    "    def type(self):\n",
    "        return self._type\n",
    "\n",
    "    def name(self):\n",
    "        return self._name\n",
    "\n",
    "    def sound(self):\n",
    "        return self._sound\n",
    "\n",
    "def print_animal(o):\n",
    "    if not isinstance(o, Animal):\n",
    "        raise TypeError('print_animal(): requires an Animal')\n",
    "    print('The {} is named \"{}\" and says \"{}\".'.format(o.type(), o.name(), o.sound()))\n",
    "\n",
    "\n",
    "def main():\n",
    "    a0 = Animal('kitten', 'fluffy', 'rwar')\n",
    "    a1 = Animal('duck', 'donald', 'quack')\n",
    "    print_animal(a0)\n",
    "    print_animal(a1)\n",
    "    print_animal(Animal('velociraptor', 'veronica', 'hello'))\n",
    "\n",
    "if __name__ == '__main__': main()\n"
   ]
  },
  {
   "cell_type": "code",
   "execution_count": 16,
   "metadata": {},
   "outputs": [
    {
     "name": "stdout",
     "output_type": "stream",
     "text": [
      "The kitten is named \"fluffy\" and says \"rwar\".\n",
      "The duck is named \"donald\" and says \"quack\".\n",
      "The velociraptor is named \"veronica\" and says \"hello\".\n"
     ]
    }
   ],
   "source": [
    "class Animal:\n",
    "    def __init__(self, type, name, sound):\n",
    "    #def __init__(self, **kwargs)\n",
    "        self._type = type\n",
    "        #self._type = kwargs['type']\n",
    "        self._name = name\n",
    "        #self._name = kwargs['name']\n",
    "        self._sound = sound\n",
    "        #self_sound = kwargs['sound']\n",
    "\n",
    "    def type(self):\n",
    "        return self._type\n",
    "\n",
    "    def name(self):\n",
    "        return self._name\n",
    "\n",
    "    def sound(self):\n",
    "        return self._sound\n",
    "\n",
    "def print_animal(o):\n",
    "    if not isinstance(o, Animal):\n",
    "        raise TypeError('print_animal(): requires an Animal')\n",
    "    print('The {} is named \"{}\" and says \"{}\".'.format(o.type(), o.name(), o.sound()))\n",
    "\n",
    "\n",
    "def main():\n",
    "    a0 = Animal('kitten', 'fluffy', 'rwar')\n",
    "    # a0 = Animal(type = 'kitten', name='fluffy', sound= 'rwar')\n",
    "    a1 = Animal('duck', 'donald', 'quack')\n",
    "    print_animal(a0)\n",
    "    print_animal(a1)\n",
    "    print_animal(Animal('velociraptor', 'veronica', 'hello'))\n",
    "\n",
    "if __name__ == '__main__': main()\n"
   ]
  },
  {
   "cell_type": "code",
   "execution_count": null,
   "metadata": {},
   "outputs": [],
   "source": []
  },
  {
   "cell_type": "markdown",
   "metadata": {},
   "source": [
    "### isinstance function "
   ]
  },
  {
   "cell_type": "code",
   "execution_count": 3,
   "metadata": {},
   "outputs": [
    {
     "name": "stdout",
     "output_type": "stream",
     "text": [
      "True\n",
      "False\n"
     ]
    }
   ],
   "source": [
    "lst = [10,20,'A']\n",
    "print(isinstance(lst, list))\n",
    "print(isinstance(lst,tuple))"
   ]
  },
  {
   "cell_type": "code",
   "execution_count": 7,
   "metadata": {},
   "outputs": [
    {
     "name": "stdout",
     "output_type": "stream",
     "text": [
      "True\n",
      "True\n"
     ]
    }
   ],
   "source": [
    "myDictionary = {'A':[10, 20, 30],'B':['A','B','C']}\n",
    "print(isinstance(myDictionary,dict))\n",
    "print(isinstance(myDictionary,(tuple, dict)))"
   ]
  },
  {
   "cell_type": "markdown",
   "metadata": {},
   "source": [
    "### Method"
   ]
  },
  {
   "cell_type": "code",
   "execution_count": 17,
   "metadata": {},
   "outputs": [
    {
     "name": "stdout",
     "output_type": "stream",
     "text": [
      "The kitten is named \"fluffy\" and says \"rwar\".\n",
      "The duck is named \"donald\" and says \"quack\".\n"
     ]
    }
   ],
   "source": [
    "class Animal:\n",
    "    def __init__(self, **kwargs):\n",
    "        self._type = kwargs['type'] if 'type' in kwargs else 'kitten'\n",
    "        self._name = kwargs['name'] if 'name' in kwargs else 'fluffy'\n",
    "        self._sound = kwargs['sound'] if 'sound' in kwargs else 'meow'\n",
    "\n",
    "    def type(self, t = None):\n",
    "        if t: self._type = t\n",
    "        return self._type\n",
    "\n",
    "    def name(self, n = None):\n",
    "        if n: self._name = n\n",
    "        return self._name\n",
    "\n",
    "    def sound(self, s = None):\n",
    "        if s: self._sound = s\n",
    "        return self._sound\n",
    "\n",
    "    def __str__(self):\n",
    "        return f'The {self.type()} is named \"{self.name()}\" and says \"{self.sound()}\".'\n",
    "\n",
    "def main():\n",
    "    a0 = Animal(type = 'kitten', name = 'fluffy', sound = 'rwar')\n",
    "    a1 = Animal(type = 'duck', name = 'donald', sound = 'quack')\n",
    "    print(a0)\n",
    "    print(a1)\n",
    "\n",
    "if __name__ == '__main__': main()"
   ]
  },
  {
   "cell_type": "markdown",
   "metadata": {},
   "source": [
    "### Inheritance"
   ]
  },
  {
   "cell_type": "code",
   "execution_count": null,
   "metadata": {},
   "outputs": [],
   "source": [
    "class Animal:\n",
    "    def __init__(self, **kwargs):\n",
    "        if 'type' in kwargs: self._type = kwargs['type']\n",
    "        if 'name' in kwargs: self._name = kwargs['name']\n",
    "        if 'sound' in kwargs: self._sound = kwargs['sound']\n",
    "            \n",
    "    def type(self, t = None):\n",
    "        if t: self._type = t\n",
    "        try: return self._type\n",
    "        except AttributeError: return None\n",
    "        \n",
    "\n",
    "    def name(self, n = None):\n",
    "        if n: self._name = n\n",
    "        try: return self._name\n",
    "        except AttributeError: return None\n",
    "\n",
    "    def sound(self, s = None):\n",
    "        if s: self._sound = s\n",
    "        try: return self._sound\n",
    "        except AttributeError: return None\n",
    "\n",
    "class Duck(Animal):\n",
    "    def __init__(self, **kwargs):\n",
    "        self._type = 'duck'\n",
    "        if 'type' in kwargs: del kwargs['type']\n",
    "        super().__init__(**kwargs)\n",
    "\n",
    "class Kitten(Animal):\n",
    "    def __init__(self, **kwargs):\n",
    "        self._type = 'kitten'\n",
    "        if 'type' in kwargs: del kwargs['type']\n",
    "        super().__init__(**kwargs)\n",
    "\n",
    "def print_animal(o):\n",
    "    if not isinstance(o, Animal):\n",
    "        raise TypeError('print_animal(): requires an Animal')\n",
    "    print(f'The {o.type()} is named \"{o.name()}\" and says \"{o.sound()}\".')\n",
    "\n",
    "def main():\n",
    "    a0 = Kitten(name = 'fluffy', sound = 'rwar')\n",
    "    a1 = Duck(name = 'donald', sound = 'quack')\n",
    "    print_animal(a0)\n",
    "    print_animal(a1)\n",
    "\n",
    "if __name__ == '__main__': main()\n"
   ]
  },
  {
   "cell_type": "code",
   "execution_count": null,
   "metadata": {},
   "outputs": [],
   "source": []
  },
  {
   "cell_type": "code",
   "execution_count": null,
   "metadata": {},
   "outputs": [],
   "source": []
  },
  {
   "cell_type": "markdown",
   "metadata": {},
   "source": [
    "### String working"
   ]
  },
  {
   "cell_type": "code",
   "execution_count": 19,
   "metadata": {},
   "outputs": [
    {
     "name": "stdout",
     "output_type": "stream",
     "text": [
      ".dlroW ,olleH\n"
     ]
    }
   ],
   "source": [
    "class RevStr(str):\n",
    "    def __str__(self):\n",
    "        return self[::-1]\n",
    "\n",
    "def main():\n",
    "    hello = RevStr('Hello, World.')\n",
    "    print(hello)\n",
    "\n",
    "if __name__ == '__main__': main()\n"
   ]
  },
  {
   "cell_type": "code",
   "execution_count": 18,
   "metadata": {},
   "outputs": [
    {
     "name": "stdout",
     "output_type": "stream",
     "text": [
      ".dlroW ,olleH\n"
     ]
    }
   ],
   "source": [
    "class RevStr(str):\n",
    "    def __str__(self):\n",
    "        return self[::-1]\n",
    "def main():\n",
    "    hello = RevStr(\"Hello, World.\")\n",
    "    print(hello)\n",
    "\n",
    "if __name__ =='__main__':\n",
    "    main()"
   ]
  },
  {
   "cell_type": "markdown",
   "metadata": {},
   "source": [
    "### Iterator"
   ]
  },
  {
   "cell_type": "code",
   "execution_count": 20,
   "metadata": {},
   "outputs": [
    {
     "name": "stdout",
     "output_type": "stream",
     "text": [
      "0 1 2 3 4 5 6 7 8 9 10 11 12 13 14 15 16 17 18 19 20 21 22 23 24 25 \n"
     ]
    }
   ],
   "source": [
    "class inclusive_range:\n",
    "    def __init__(self, *args):\n",
    "        numargs = len(args)\n",
    "        self._start = 0\n",
    "        self._step = 1\n",
    "        \n",
    "        if numargs < 1:\n",
    "            raise TypeError(f'expected at least 1 argument, got {numargs}')\n",
    "        elif numargs == 1:\n",
    "            self._stop = args[0]\n",
    "        elif numargs == 2:\n",
    "            (self._start, self._stop) = args\n",
    "        elif numargs == 3:\n",
    "            (self._start, self._stop, self._step) = args\n",
    "        else: raise TypeError(f'expected at most 3 arguments, got {numargs}')\n",
    "\n",
    "        self._next = self._start\n",
    "    \n",
    "    def __iter__(self):\n",
    "        return self\n",
    "\n",
    "    def __next__(self):\n",
    "        if self._next > self._stop:\n",
    "            raise StopIteration\n",
    "        else:\n",
    "            _r = self._next\n",
    "            self._next += self._step\n",
    "            return _r\n",
    "\n",
    "def main():\n",
    "    for n in inclusive_range(25):\n",
    "        print(n, end=' ')\n",
    "    print()\n",
    "\n",
    "if __name__ == '__main__': main()"
   ]
  },
  {
   "cell_type": "code",
   "execution_count": null,
   "metadata": {},
   "outputs": [],
   "source": []
  }
 ],
 "metadata": {
  "kernelspec": {
   "display_name": "Python 3",
   "language": "python",
   "name": "python3"
  },
  "language_info": {
   "codemirror_mode": {
    "name": "ipython",
    "version": 3
   },
   "file_extension": ".py",
   "mimetype": "text/x-python",
   "name": "python",
   "nbconvert_exporter": "python",
   "pygments_lexer": "ipython3",
   "version": "3.7.3"
  },
  "toc": {
   "base_numbering": 1,
   "nav_menu": {},
   "number_sections": true,
   "sideBar": true,
   "skip_h1_title": false,
   "title_cell": "Table of Contents",
   "title_sidebar": "Contents",
   "toc_cell": false,
   "toc_position": {},
   "toc_section_display": true,
   "toc_window_display": false
  }
 },
 "nbformat": 4,
 "nbformat_minor": 4
}
