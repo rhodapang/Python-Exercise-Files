{
 "cells": [
  {
   "cell_type": "code",
   "execution_count": 1,
   "metadata": {},
   "outputs": [
    {
     "name": "stdout",
     "output_type": "stream",
     "text": [
      "This is line 1\n",
      "\n",
      "\n",
      "\n",
      "This is line 2\n",
      "\n",
      "\n",
      "\n",
      "This is line 3\n",
      "\n",
      "\n",
      "\n",
      "This is line 4\n",
      "\n",
      "\n",
      "\n",
      "This is line 5\n",
      "\n",
      "\n",
      "\n",
      "This is line 6\n",
      "\n",
      "\n",
      "\n",
      "This is line 7\n",
      "\n",
      "\n",
      "\n",
      "This is line 8\n",
      "\n",
      "\n",
      "\n",
      "This is line 9\n",
      "\n",
      "\n",
      "\n",
      "This is line 10\n",
      "\n",
      "\n",
      "\n"
     ]
    }
   ],
   "source": [
    "#\n",
    "# Read and write files using the built-in Python file methods\n",
    "#\n",
    "\n",
    "def main():  \n",
    "  # Open a file for writing and create it if it doesn't exist\n",
    "  f = open(\"textfile.txt\",\"w+\")\n",
    "  \n",
    "  # Open the file for appending text to the end\n",
    "  # f = open(\"textfile.txt\",\"a+\")\n",
    "\n",
    "  # write some lines of data to the file\n",
    "  for i in range(10):\n",
    "    f.write(\"This is line %d\\r\\n\" % (i+1))\n",
    "  \n",
    "  # close the file when done\n",
    "  f.close()\n",
    "  \n",
    "  # Open the file back up and read the contents\n",
    "  f = open(\"textfile.txt\",\"r\")\n",
    "  if f.mode == 'r': # check to make sure that the file was opened\n",
    "    # use the read() function to read the entire file\n",
    "    # contents = f.read()\n",
    "    # print (contents)\n",
    "    \n",
    "    fl = f.readlines() # readlines reads the individual lines into a list\n",
    "    for x in fl:\n",
    "      print (x)\n",
    "    \n",
    "if __name__ == \"__main__\":\n",
    "  main()\n"
   ]
  },
  {
   "cell_type": "code",
   "execution_count": null,
   "metadata": {},
   "outputs": [],
   "source": [
    "#\n",
    "# Read and write files using the built-in Python file methods\n",
    "#\n",
    "\n",
    "def main():  \n",
    "  # Open a file for writing and create it if it doesn't exist\n",
    "    f = open(\"textfile.txt\",\"w+\")\n",
    "\n",
    "  # Open the file for appending text to the end\n",
    "    \n",
    "\n",
    "  # write some lines of data to the file\n",
    "\n",
    "  \n",
    "  # close the file when done\n",
    "\n",
    "  \n",
    "  # Open the file back up and read the contents\n",
    "\n",
    "    \n",
    "if __name__ == \"__main__\":\n",
    "  main()\n"
   ]
  },
  {
   "cell_type": "code",
   "execution_count": null,
   "metadata": {},
   "outputs": [],
   "source": []
  },
  {
   "cell_type": "code",
   "execution_count": null,
   "metadata": {},
   "outputs": [],
   "source": []
  },
  {
   "cell_type": "code",
   "execution_count": null,
   "metadata": {},
   "outputs": [],
   "source": []
  },
  {
   "cell_type": "code",
   "execution_count": null,
   "metadata": {},
   "outputs": [],
   "source": []
  },
  {
   "cell_type": "code",
   "execution_count": null,
   "metadata": {},
   "outputs": [],
   "source": []
  },
  {
   "cell_type": "code",
   "execution_count": null,
   "metadata": {},
   "outputs": [],
   "source": []
  }
 ],
 "metadata": {
  "kernelspec": {
   "display_name": "Python 3",
   "language": "python",
   "name": "python3"
  },
  "language_info": {
   "codemirror_mode": {
    "name": "ipython",
    "version": 3
   },
   "file_extension": ".py",
   "mimetype": "text/x-python",
   "name": "python",
   "nbconvert_exporter": "python",
   "pygments_lexer": "ipython3",
   "version": "3.7.3"
  },
  "toc": {
   "base_numbering": 1,
   "nav_menu": {},
   "number_sections": true,
   "sideBar": true,
   "skip_h1_title": false,
   "title_cell": "Table of Contents",
   "title_sidebar": "Contents",
   "toc_cell": false,
   "toc_position": {},
   "toc_section_display": true,
   "toc_window_display": false
  }
 },
 "nbformat": 4,
 "nbformat_minor": 4
}
