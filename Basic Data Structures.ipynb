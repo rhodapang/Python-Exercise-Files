{
 "cells": [
  {
   "cell_type": "markdown",
   "metadata": {},
   "source": [
    "### List"
   ]
  },
  {
   "cell_type": "code",
   "execution_count": 8,
   "metadata": {},
   "outputs": [
    {
     "name": "stdout",
     "output_type": "stream",
     "text": [
      "['Paper', 'Scissors']\n",
      "Scissors\n",
      "Rock Scissors Lizard Spock \n",
      "Rock,Scissors,Lizard,Spock\n"
     ]
    }
   ],
   "source": [
    "def main():\n",
    "    game = [ 'Rock', 'Paper', 'Scissors', 'Lizard', 'Spock' ]\n",
    "    print(game[1:3])\n",
    "    i = game.index('Paper')\n",
    "    game.remove('Paper')\n",
    "    print(game[i])\n",
    "    print_list(game)\n",
    "    print(','.join(game))\n",
    "\n",
    "def print_list(o):\n",
    "    for i in o: print(i, end=' ', flush=True)\n",
    "    print()\n",
    "\n",
    "if __name__ == '__main__': main()\n"
   ]
  },
  {
   "cell_type": "code",
   "execution_count": 4,
   "metadata": {},
   "outputs": [],
   "source": [
    "def main():\n",
    "    game = [ 'Rock', 'Paper', 'Scissors', 'Lizard', 'Spock' ]\n",
    "    print_list(game)  \n",
    "\n",
    "def print_list(o):\n",
    "    for i in o:\n",
    "        print(i, end = ' ', flush=True)\n",
    "    print()"
   ]
  },
  {
   "cell_type": "code",
   "execution_count": 5,
   "metadata": {},
   "outputs": [
    {
     "name": "stdout",
     "output_type": "stream",
     "text": [
      "Rock Paper Scissors Lizard Spock \n"
     ]
    }
   ],
   "source": [
    "if __name__ == '__main__':\n",
    "    main()"
   ]
  },
  {
   "cell_type": "code",
   "execution_count": null,
   "metadata": {},
   "outputs": [],
   "source": []
  },
  {
   "cell_type": "markdown",
   "metadata": {},
   "source": [
    "### Tuple"
   ]
  },
  {
   "cell_type": "code",
   "execution_count": 9,
   "metadata": {},
   "outputs": [
    {
     "name": "stdout",
     "output_type": "stream",
     "text": [
      "Rock Paper Scissors Lizard Spock \n"
     ]
    }
   ],
   "source": [
    "def main():\n",
    "    game = ('Rock', 'Paper', 'Scissors', 'Lizard', 'Spock')\n",
    "    print_list(game)\n",
    "\n",
    "def print_list(o):\n",
    "    for i in o: print(i, end=' ', flush=True)\n",
    "    print()\n",
    "\n",
    "if __name__ == '__main__': main()\n"
   ]
  },
  {
   "cell_type": "markdown",
   "metadata": {},
   "source": [
    "### Dictionary"
   ]
  },
  {
   "cell_type": "code",
   "execution_count": 14,
   "metadata": {},
   "outputs": [
    {
     "name": "stdout",
     "output_type": "stream",
     "text": [
      "found!\n",
      "kitten: meow\n",
      "puppy: ruff!\n",
      "lion: grrr\n",
      "giraffe: I am a giraffe!\n",
      "dragon: rawr\n",
      "None\n",
      "kitten:meow\n",
      "puppy:ruff!\n",
      "lion:grrr\n",
      "giraffe:I am a giraffe!\n",
      "dragon:rawr\n"
     ]
    }
   ],
   "source": [
    "def main():\n",
    "    animals = { 'kitten': 'meow', 'puppy': 'ruff!', 'lion': 'grrr',\n",
    "        'giraffe': 'I am a giraffe!', 'dragon': 'rawr' }\n",
    "    print('found!' if 'lion' in animals else 'nope')\n",
    "    \n",
    "    print_dict(animals)\n",
    "    print(animals.get('godzilla'))\n",
    "    for k, v in animals.items():\n",
    "        print(f'{k}:{v}')\n",
    "        \n",
    "\n",
    "def print_dict(o):\n",
    "    for x in o: \n",
    "        print(f'{x}: {o[x]}')\n",
    "\n",
    "if __name__ == '__main__': main()\n"
   ]
  },
  {
   "cell_type": "markdown",
   "metadata": {},
   "source": [
    "### Set"
   ]
  },
  {
   "cell_type": "code",
   "execution_count": 21,
   "metadata": {},
   "outputs": [
    {
     "name": "stdout",
     "output_type": "stream",
     "text": [
      "{r.W enidbot'ag}\n",
      "{ri,ca. feyDIsn'hdotmv}\n",
      "{'b', 'W', 'g'}\n",
      "{'r', 'i', ',', 'c', 'b', 'a', '.', ' ', 'f', 'e', 'y', 'D', 'I', 's', 'W', 'n', \"'\", 'h', 'g', 'd', 'o', 't', 'm', 'v'}\n",
      "{'r', '.', ' ', 'e', 'n', 'i', 'd', 'o', 't', \"'\", 'a'}\n"
     ]
    }
   ],
   "source": [
    "def main():\n",
    "    a = set(\"We're gonna need a bigger boat.\")\n",
    "    b = set(\"I'm sorry, Dave. I'm afraid I can't do that.\")\n",
    "    print_set(a)\n",
    "    print_set(b)\n",
    "    print(a - b)\n",
    "    print(a |b )\n",
    "    print(a & b)\n",
    "\n",
    "def print_set(o):\n",
    "    print('{', end = '')\n",
    "    for x in o: print(x, end = '')\n",
    "    print('}')\n",
    "\n",
    "if __name__ == '__main__': main()\n"
   ]
  },
  {
   "cell_type": "markdown",
   "metadata": {},
   "source": [
    "### Comprehension"
   ]
  },
  {
   "cell_type": "code",
   "execution_count": 26,
   "metadata": {},
   "outputs": [
    {
     "name": "stdout",
     "output_type": "stream",
     "text": [
      "[3.0, 3.1, 3.14, 3.142, 3.1416, 3.14159, 3.141593, 3.1415927, 3.14159265, 3.141592654, 3.1415926536]\n",
      "0 1 2 3 4 5 6 7 8 9 10 \n",
      "1 2 4 5 7 8 10 \n"
     ]
    }
   ],
   "source": [
    "def main():\n",
    "    seq = range(11)\n",
    "    from math import pi\n",
    "    print([round(pi,i) for i in seq])\n",
    "    seq2 = [x* 2  for x in seq]\n",
    "    seq3 = [x for x in seq if x %3 != 0]\n",
    "    print_list(seq)\n",
    "    print_list(seq3)\n",
    "\n",
    "def print_list(o):\n",
    "    for x in o: print(x, end = ' ')\n",
    "    print()\n",
    "\n",
    "if __name__ == '__main__': main()"
   ]
  },
  {
   "cell_type": "markdown",
   "metadata": {},
   "source": [
    "### Mix Structure"
   ]
  },
  {
   "cell_type": "code",
   "execution_count": null,
   "metadata": {},
   "outputs": [],
   "source": [
    "def main():\n",
    "    r = range(11)\n",
    "    l = [ 1, 'two', 3, {'4': 'four' }, 5 ]\n",
    "    t = ( 'one', 'two', None, 'four', 'five' )\n",
    "    s = set(\"It's a bird! It's a plane! It's Superman!\")\n",
    "    d = dict( one = r, two = l, three = s )\n",
    "    mixed = [ l, r, s, d, t ]\n",
    "    disp(mixed)\n",
    "\n",
    "def disp(o):\n",
    "    global dlevel\n",
    "\n",
    "    dlevel += 1\n",
    "    if   isinstance(o, list):  print_list(o)\n",
    "    elif isinstance(o, range): print_list(o)\n",
    "    elif isinstance(o, tuple): print_tuple(o)\n",
    "    elif isinstance(o, set):   print_set(o)\n",
    "    elif isinstance(o, dict):  print_dict(o)\n",
    "    elif o is None: print('Nada', end=' ', flush=True)\n",
    "    else: print(repr(o), end=' ', flush=True)\n",
    "    dlevel -= 1\n",
    "\n",
    "    if dlevel <= 1: print() # newline after outer\n",
    "\n",
    "def print_list(o):\n",
    "    print('[', end=' ')\n",
    "    for x in o: disp(x)\n",
    "    print(']', end=' ', flush=True)\n",
    "\n",
    "def print_tuple(o):\n",
    "    print('(', end=' ')\n",
    "    for x in o: disp(x)\n",
    "    print(')', end=' ', flush=True)\n",
    "\n",
    "def print_set(o):\n",
    "    print('{', end=' ')\n",
    "    for x in sorted(o): disp(x)\n",
    "    print('}', end=' ', flush=True)\n",
    "\n",
    "def print_dict(o):\n",
    "    print('{', end=' ')\n",
    "    for k, v in o.items():\n",
    "        print(k, end=': ' )\n",
    "        disp(v)\n",
    "    print('}', end=' ', flush=True)\n",
    "\n",
    "if __name__ == '__main__': main()\n"
   ]
  },
  {
   "cell_type": "code",
   "execution_count": 29,
   "metadata": {},
   "outputs": [
    {
     "name": "stdout",
     "output_type": "stream",
     "text": [
      "6\n",
      "5\n",
      "4\n",
      "3\n",
      "2\n",
      "1\n",
      "(1, 2, 3, 4, 5, 6)\n",
      "<reversed object at 0x000002616568F710>\n"
     ]
    }
   ],
   "source": [
    "x = (1,2,3,4,5,6)\n",
    "y = reversed(x)\n",
    "for i in y:\n",
    "    print(i)\n",
    "print(x)\n",
    "print(y)"
   ]
  },
  {
   "cell_type": "code",
   "execution_count": 31,
   "metadata": {},
   "outputs": [
    {
     "name": "stdout",
     "output_type": "stream",
     "text": [
      "42\n",
      "True\n"
     ]
    }
   ],
   "source": [
    "x = 42\n",
    "# y = type(x)\n",
    "y = isinstance(x, int)\n",
    "print(x)\n",
    "print(y)"
   ]
  },
  {
   "cell_type": "code",
   "execution_count": 32,
   "metadata": {},
   "outputs": [
    {
     "name": "stdout",
     "output_type": "stream",
     "text": [
      "Python version 3.7.3\n"
     ]
    }
   ],
   "source": [
    "import sys \n",
    "def main():\n",
    "    v = sys.version_info\n",
    "    print('Python version {}.{}.{}'.format(*v))\n",
    "if __name__ == '__main__':\n",
    "    main()"
   ]
  },
  {
   "cell_type": "code",
   "execution_count": 33,
   "metadata": {},
   "outputs": [
    {
     "name": "stdout",
     "output_type": "stream",
     "text": [
      "win32\n"
     ]
    }
   ],
   "source": [
    "import sys \n",
    "def main():\n",
    "    v = sys.platform\n",
    "    print(v)\n",
    "if __name__ == '__main__':\n",
    "    main()"
   ]
  },
  {
   "cell_type": "code",
   "execution_count": 36,
   "metadata": {},
   "outputs": [
    {
     "name": "stdout",
     "output_type": "stream",
     "text": [
      "nt\n"
     ]
    }
   ],
   "source": [
    "import os \n",
    "\n",
    "def main():\n",
    "    v = os.name\n",
    "    print(v)\n",
    "if __name__ == '__main__':\n",
    "    main()"
   ]
  },
  {
   "cell_type": "code",
   "execution_count": 37,
   "metadata": {
    "collapsed": true
   },
   "outputs": [
    {
     "name": "stdout",
     "output_type": "stream",
     "text": [
      "C:\\Users\\rhoda\\Anaconda3;C:\\Users\\rhoda\\Anaconda3\\Library\\mingw-w64\\bin;C:\\Users\\rhoda\\Anaconda3\\Library\\usr\\bin;C:\\Users\\rhoda\\Anaconda3\\Library\\bin;C:\\Users\\rhoda\\Anaconda3\\Scripts;C:\\Users\\rhoda\\Anaconda3\\bin;C:\\Users\\rhoda\\Anaconda3\\condabin;C:\\Program Files (x86)\\Intel\\Intel(R) Management Engine Components\\iCLS;C:\\Program Files\\Intel\\Intel(R) Management Engine Components\\iCLS;C:\\Windows\\system32;C:\\Windows;C:\\Windows\\System32\\Wbem;C:\\Windows\\System32\\WindowsPowerShell\\v1.0;C:\\Windows\\System32\\OpenSSH;C:\\Program Files (x86)\\Intel\\Intel(R) Management Engine Components\\DAL;C:\\Program Files\\Intel\\Intel(R) Management Engine Components\\DAL;C:\\Program Files (x86)\\Intel\\Intel(R) Management Engine Components\\IPT;C:\\Program Files\\Intel\\Intel(R) Management Engine Components\\IPT;C:\\Program Files (x86)\\NVIDIA Corporation\\PhysX\\Common;C:\\WINDOWS\\system32;C:\\WINDOWS;C:\\WINDOWS\\System32\\Wbem;C:\\WINDOWS\\System32\\WindowsPowerShell\\v1.0;C:\\WINDOWS\\System32\\OpenSSH;C:\\Users\\rhoda\\AppData\\Local\\Microsoft\\WindowsApps;C:\\Users\\rhoda\\AppData\\Local\\GitHubDesktop\\bin\n"
     ]
    }
   ],
   "source": [
    "def main():\n",
    "    v = os.getenv('PATH')\n",
    "    print(v)\n",
    "if __name__ == '__main__':\n",
    "    main()"
   ]
  },
  {
   "cell_type": "code",
   "execution_count": 38,
   "metadata": {},
   "outputs": [
    {
     "name": "stdout",
     "output_type": "stream",
     "text": [
      "D:\\Springboard\\Github\\Python Exercise Files\n"
     ]
    }
   ],
   "source": [
    "def main():\n",
    "    v = os.getcwd()\n",
    "    print(v)\n",
    "if __name__ == '__main__':\n",
    "    main()"
   ]
  },
  {
   "cell_type": "code",
   "execution_count": 43,
   "metadata": {},
   "outputs": [
    {
     "name": "stdout",
     "output_type": "stream",
     "text": [
      "[0, 1, 2, 3, 4, 5, 6, 7, 8, 9, 10, 11, 12, 13, 14, 15, 16, 17, 18, 19, 20, 21, 22, 23, 24]\n",
      "[9, 5, 18, 12, 11, 4, 16, 8, 6, 17, 14, 10, 7, 21, 22, 13, 20, 2, 0, 24, 1, 19, 15, 3, 23]\n"
     ]
    }
   ],
   "source": [
    "import random\n",
    "\n",
    "def main():\n",
    "    x = list(range(25))\n",
    "    print(x)\n",
    "    random.shuffle(x)\n",
    "    print(x)\n",
    "\n",
    "if __name__ == '__main__':\n",
    "    main()"
   ]
  },
  {
   "cell_type": "code",
   "execution_count": 47,
   "metadata": {},
   "outputs": [
    {
     "name": "stdout",
     "output_type": "stream",
     "text": [
      "2021\n",
      "3\n",
      "28\n"
     ]
    }
   ],
   "source": [
    "import datetime \n",
    "def main():\n",
    "    now = datetime.datetime.now()\n",
    "    print(now.year)\n",
    "    print(now.month)\n",
    "    print(now.day)\n",
    "\n",
    "if __name__ == '__main__':\n",
    "    main()"
   ]
  },
  {
   "cell_type": "markdown",
   "metadata": {},
   "source": [
    "### Python Database API"
   ]
  },
  {
   "cell_type": "code",
   "execution_count": 49,
   "metadata": {},
   "outputs": [
    {
     "name": "stdout",
     "output_type": "stream",
     "text": [
      "connect\n",
      "create\n",
      "insert row\n",
      "insert row\n",
      "insert row\n",
      "commit\n",
      "count\n",
      "there are 3 rows in the table.\n",
      "read\n",
      "(1, 'one', 1)\n",
      "(2, 'two', 2)\n",
      "(3, 'three', 3)\n",
      "drop\n",
      "close\n"
     ]
    }
   ],
   "source": [
    "import sqlite3\n",
    "\n",
    "def main():\n",
    "    print('connect')\n",
    "    db = sqlite3.connect('db-api.db')\n",
    "    cur = db.cursor()\n",
    "    print('create')\n",
    "    cur.execute(\"DROP TABLE IF EXISTS test\")\n",
    "    cur.execute(\"\"\"\n",
    "        CREATE TABLE test (\n",
    "            id INTEGER PRIMARY KEY, string TEXT, number INTEGER\n",
    "        )\n",
    "        \"\"\")\n",
    "    print('insert row')\n",
    "    cur.execute(\"\"\"\n",
    "        INSERT INTO test (string, number) VALUES ('one', 1)\n",
    "        \"\"\")\n",
    "    print('insert row')\n",
    "    cur.execute(\"\"\"\n",
    "        INSERT INTO test (string, number) VALUES ('two', 2)\n",
    "        \"\"\")\n",
    "    print('insert row')\n",
    "    cur.execute(\"\"\"\n",
    "        INSERT INTO test (string, number) VALUES ('three', 3)\n",
    "        \"\"\")\n",
    "    print('commit')\n",
    "    db.commit()\n",
    "    print('count')\n",
    "    cur.execute(\"SELECT COUNT(*) FROM test\")\n",
    "    count = cur.fetchone()[0]\n",
    "    print(f'there are {count} rows in the table.')\n",
    "    print('read')\n",
    "    for row in cur.execute(\"SELECT * FROM test\"):\n",
    "        print(row)\n",
    "    print('drop')\n",
    "    cur.execute(\"DROP TABLE test\")\n",
    "    print('close')\n",
    "    db.close()\n",
    "\n",
    "if __name__ == '__main__': main()\n"
   ]
  },
  {
   "cell_type": "code",
   "execution_count": 50,
   "metadata": {},
   "outputs": [
    {
     "ename": "NameError",
     "evalue": "name '__version__' is not defined",
     "output_type": "error",
     "traceback": [
      "\u001b[1;31m---------------------------------------------------------------------------\u001b[0m",
      "\u001b[1;31mNameError\u001b[0m                                 Traceback (most recent call last)",
      "\u001b[1;32m<ipython-input-50-ed85f23a0c6d>\u001b[0m in \u001b[0;36m<module>\u001b[1;34m\u001b[0m\n\u001b[0;32m      1\u001b[0m \u001b[1;32mimport\u001b[0m \u001b[0msqlite3\u001b[0m\u001b[1;33m\u001b[0m\u001b[1;33m\u001b[0m\u001b[0m\n\u001b[0;32m      2\u001b[0m \u001b[1;33m\u001b[0m\u001b[0m\n\u001b[1;32m----> 3\u001b[1;33m \u001b[0m__version__\u001b[0m\u001b[1;33m\u001b[0m\u001b[1;33m\u001b[0m\u001b[0m\n\u001b[0m",
      "\u001b[1;31mNameError\u001b[0m: name '__version__' is not defined"
     ]
    }
   ],
   "source": [
    "import sqlite3\n"
   ]
  },
  {
   "cell_type": "code",
   "execution_count": null,
   "metadata": {},
   "outputs": [],
   "source": []
  }
 ],
 "metadata": {
  "kernelspec": {
   "display_name": "Python 3",
   "language": "python",
   "name": "python3"
  },
  "language_info": {
   "codemirror_mode": {
    "name": "ipython",
    "version": 3
   },
   "file_extension": ".py",
   "mimetype": "text/x-python",
   "name": "python",
   "nbconvert_exporter": "python",
   "pygments_lexer": "ipython3",
   "version": "3.7.3"
  },
  "toc": {
   "base_numbering": 1,
   "nav_menu": {},
   "number_sections": true,
   "sideBar": true,
   "skip_h1_title": false,
   "title_cell": "Table of Contents",
   "title_sidebar": "Contents",
   "toc_cell": false,
   "toc_position": {},
   "toc_section_display": true,
   "toc_window_display": false
  }
 },
 "nbformat": 4,
 "nbformat_minor": 4
}
