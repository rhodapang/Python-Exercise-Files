{
 "cells": [
  {
   "cell_type": "markdown",
   "metadata": {},
   "source": [
    "### List"
   ]
  },
  {
   "cell_type": "code",
   "execution_count": 8,
   "metadata": {},
   "outputs": [
    {
     "name": "stdout",
     "output_type": "stream",
     "text": [
      "['Paper', 'Scissors']\n",
      "Scissors\n",
      "Rock Scissors Lizard Spock \n",
      "Rock,Scissors,Lizard,Spock\n"
     ]
    }
   ],
   "source": [
    "def main():\n",
    "    game = [ 'Rock', 'Paper', 'Scissors', 'Lizard', 'Spock' ]\n",
    "    print(game[1:3])\n",
    "    i = game.index('Paper')\n",
    "    game.remove('Paper')\n",
    "    print(game[i])\n",
    "    print_list(game)\n",
    "    print(','.join(game))\n",
    "\n",
    "def print_list(o):\n",
    "    for i in o: print(i, end=' ', flush=True)\n",
    "    print()\n",
    "\n",
    "if __name__ == '__main__': main()\n"
   ]
  },
  {
   "cell_type": "code",
   "execution_count": 4,
   "metadata": {},
   "outputs": [],
   "source": [
    "def main():\n",
    "    game = [ 'Rock', 'Paper', 'Scissors', 'Lizard', 'Spock' ]\n",
    "    print_list(game)  \n",
    "\n",
    "def print_list(o):\n",
    "    for i in o:\n",
    "        print(i, end = ' ', flush=True)\n",
    "    print()"
   ]
  },
  {
   "cell_type": "code",
   "execution_count": 5,
   "metadata": {},
   "outputs": [
    {
     "name": "stdout",
     "output_type": "stream",
     "text": [
      "Rock Paper Scissors Lizard Spock \n"
     ]
    }
   ],
   "source": [
    "if __name__ == '__main__':\n",
    "    main()"
   ]
  },
  {
   "cell_type": "code",
   "execution_count": null,
   "metadata": {},
   "outputs": [],
   "source": []
  },
  {
   "cell_type": "markdown",
   "metadata": {},
   "source": [
    "### Tuple"
   ]
  },
  {
   "cell_type": "code",
   "execution_count": 9,
   "metadata": {},
   "outputs": [
    {
     "name": "stdout",
     "output_type": "stream",
     "text": [
      "Rock Paper Scissors Lizard Spock \n"
     ]
    }
   ],
   "source": [
    "def main():\n",
    "    game = ('Rock', 'Paper', 'Scissors', 'Lizard', 'Spock')\n",
    "    print_list(game)\n",
    "\n",
    "def print_list(o):\n",
    "    for i in o: print(i, end=' ', flush=True)\n",
    "    print()\n",
    "\n",
    "if __name__ == '__main__': main()\n"
   ]
  },
  {
   "cell_type": "markdown",
   "metadata": {},
   "source": [
    "### Dictionary"
   ]
  },
  {
   "cell_type": "code",
   "execution_count": 14,
   "metadata": {},
   "outputs": [
    {
     "name": "stdout",
     "output_type": "stream",
     "text": [
      "found!\n",
      "kitten: meow\n",
      "puppy: ruff!\n",
      "lion: grrr\n",
      "giraffe: I am a giraffe!\n",
      "dragon: rawr\n",
      "None\n",
      "kitten:meow\n",
      "puppy:ruff!\n",
      "lion:grrr\n",
      "giraffe:I am a giraffe!\n",
      "dragon:rawr\n"
     ]
    }
   ],
   "source": [
    "def main():\n",
    "    animals = { 'kitten': 'meow', 'puppy': 'ruff!', 'lion': 'grrr',\n",
    "        'giraffe': 'I am a giraffe!', 'dragon': 'rawr' }\n",
    "    print('found!' if 'lion' in animals else 'nope')\n",
    "    \n",
    "    print_dict(animals)\n",
    "    print(animals.get('godzilla'))\n",
    "    for k, v in animals.items():\n",
    "        print(f'{k}:{v}')\n",
    "        \n",
    "\n",
    "def print_dict(o):\n",
    "    for x in o: \n",
    "        print(f'{x}: {o[x]}')\n",
    "\n",
    "if __name__ == '__main__': main()\n"
   ]
  },
  {
   "cell_type": "markdown",
   "metadata": {},
   "source": [
    "### Set"
   ]
  },
  {
   "cell_type": "code",
   "execution_count": 21,
   "metadata": {},
   "outputs": [
    {
     "name": "stdout",
     "output_type": "stream",
     "text": [
      "{r.W enidbot'ag}\n",
      "{ri,ca. feyDIsn'hdotmv}\n",
      "{'b', 'W', 'g'}\n",
      "{'r', 'i', ',', 'c', 'b', 'a', '.', ' ', 'f', 'e', 'y', 'D', 'I', 's', 'W', 'n', \"'\", 'h', 'g', 'd', 'o', 't', 'm', 'v'}\n",
      "{'r', '.', ' ', 'e', 'n', 'i', 'd', 'o', 't', \"'\", 'a'}\n"
     ]
    }
   ],
   "source": [
    "def main():\n",
    "    a = set(\"We're gonna need a bigger boat.\")\n",
    "    b = set(\"I'm sorry, Dave. I'm afraid I can't do that.\")\n",
    "    print_set(a)\n",
    "    print_set(b)\n",
    "    print(a - b)\n",
    "    print(a |b )\n",
    "    print(a & b)\n",
    "\n",
    "def print_set(o):\n",
    "    print('{', end = '')\n",
    "    for x in o: print(x, end = '')\n",
    "    print('}')\n",
    "\n",
    "if __name__ == '__main__': main()\n"
   ]
  },
  {
   "cell_type": "markdown",
   "metadata": {},
   "source": [
    "### Comprehension"
   ]
  },
  {
   "cell_type": "code",
   "execution_count": 23,
   "metadata": {},
   "outputs": [
    {
     "name": "stdout",
     "output_type": "stream",
     "text": [
      "0 1 2 3 4 5 6 7 8 9 10 \n",
      "1 2 4 5 7 8 10 \n"
     ]
    }
   ],
   "source": [
    "def main():\n",
    "    seq = range(11)\n",
    "    for math import pi\n",
    "    print([round(pi,)])\n",
    "    seq2 = [x* 2  for x in seq]\n",
    "    seq3 = [x for x in seq if x %3 != 0]\n",
    "    print_list(seq)\n",
    "    print_list(seq3)\n",
    "\n",
    "def print_list(o):\n",
    "    for x in o: print(x, end = ' ')\n",
    "    print()\n",
    "\n",
    "if __name__ == '__main__': main()"
   ]
  },
  {
   "cell_type": "code",
   "execution_count": null,
   "metadata": {},
   "outputs": [],
   "source": []
  },
  {
   "cell_type": "code",
   "execution_count": null,
   "metadata": {},
   "outputs": [],
   "source": []
  },
  {
   "cell_type": "code",
   "execution_count": null,
   "metadata": {},
   "outputs": [],
   "source": []
  },
  {
   "cell_type": "code",
   "execution_count": null,
   "metadata": {},
   "outputs": [],
   "source": []
  },
  {
   "cell_type": "code",
   "execution_count": null,
   "metadata": {},
   "outputs": [],
   "source": []
  },
  {
   "cell_type": "code",
   "execution_count": null,
   "metadata": {},
   "outputs": [],
   "source": []
  }
 ],
 "metadata": {
  "kernelspec": {
   "display_name": "Python 3",
   "language": "python",
   "name": "python3"
  },
  "language_info": {
   "codemirror_mode": {
    "name": "ipython",
    "version": 3
   },
   "file_extension": ".py",
   "mimetype": "text/x-python",
   "name": "python",
   "nbconvert_exporter": "python",
   "pygments_lexer": "ipython3",
   "version": "3.7.3"
  },
  "toc": {
   "base_numbering": 1,
   "nav_menu": {},
   "number_sections": true,
   "sideBar": true,
   "skip_h1_title": false,
   "title_cell": "Table of Contents",
   "title_sidebar": "Contents",
   "toc_cell": false,
   "toc_position": {},
   "toc_section_display": true,
   "toc_window_display": false
  }
 },
 "nbformat": 4,
 "nbformat_minor": 4
}
