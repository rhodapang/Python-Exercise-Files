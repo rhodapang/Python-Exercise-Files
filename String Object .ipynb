{
 "cells": [
  {
   "cell_type": "code",
   "execution_count": 1,
   "metadata": {},
   "outputs": [
    {
     "name": "stdout",
     "output_type": "stream",
     "text": [
      "hELLO, wORLD.\n"
     ]
    }
   ],
   "source": [
    "print(\"Hello, World.\".swapcase())"
   ]
  },
  {
   "cell_type": "code",
   "execution_count": 4,
   "metadata": {},
   "outputs": [
    {
     "name": "stdout",
     "output_type": "stream",
     "text": [
      "Hello, World.294\n"
     ]
    }
   ],
   "source": [
    "print(\"Hello, World.{}\".format(42 * 7))"
   ]
  },
  {
   "cell_type": "code",
   "execution_count": 5,
   "metadata": {},
   "outputs": [
    {
     "name": "stdout",
     "output_type": "stream",
     "text": [
      "Hello, World.24\n"
     ]
    }
   ],
   "source": [
    "s = \"Hello, World.{}\"\n",
    "print(s.format(3 * 8))"
   ]
  },
  {
   "cell_type": "code",
   "execution_count": 6,
   "metadata": {},
   "outputs": [
    {
     "name": "stdout",
     "output_type": "stream",
     "text": [
      ".dlroW ,olleH\n"
     ]
    }
   ],
   "source": [
    "class MyString(str):\n",
    "    def __str__(self):\n",
    "        return self[::-1]\n",
    "\n",
    "s = MyString(\"Hello, World.\")\n",
    "print(s)"
   ]
  },
  {
   "cell_type": "code",
   "execution_count": 7,
   "metadata": {},
   "outputs": [
    {
     "name": "stdout",
     "output_type": "stream",
     "text": [
      "HELLO, WORLD.\n"
     ]
    }
   ],
   "source": [
    "print(\"Hello, World.\".upper())"
   ]
  },
  {
   "cell_type": "code",
   "execution_count": 8,
   "metadata": {},
   "outputs": [
    {
     "name": "stdout",
     "output_type": "stream",
     "text": [
      "hello, world.\n"
     ]
    }
   ],
   "source": [
    "print(\"Hello, World.\".lower())"
   ]
  },
  {
   "cell_type": "code",
   "execution_count": 11,
   "metadata": {},
   "outputs": [
    {
     "name": "stdout",
     "output_type": "stream",
     "text": [
      "Hello, world.\n"
     ]
    }
   ],
   "source": [
    "print(\"Hello, World.\".capitalize())"
   ]
  },
  {
   "cell_type": "code",
   "execution_count": 12,
   "metadata": {},
   "outputs": [
    {
     "name": "stdout",
     "output_type": "stream",
     "text": [
      "hELLO, wORLD.\n"
     ]
    }
   ],
   "source": [
    "print(\"Hello, World.\".swapcase())"
   ]
  },
  {
   "cell_type": "code",
   "execution_count": 14,
   "metadata": {},
   "outputs": [
    {
     "name": "stdout",
     "output_type": "stream",
     "text": [
      "2758494601008\n",
      "2758488207664\n"
     ]
    }
   ],
   "source": [
    "s1 = \"Hello, World.\"\n",
    "s2 = s1.upper()\n",
    "\n",
    "print(id(s1))\n",
    "print(id(s2))"
   ]
  },
  {
   "cell_type": "code",
   "execution_count": 18,
   "metadata": {},
   "outputs": [
    {
     "name": "stdout",
     "output_type": "stream",
     "text": [
      "the number is 73 42\n"
     ]
    }
   ],
   "source": [
    "### format \n",
    "x = 42\n",
    "y = 73\n",
    "print('the number is {bb} {xx}'.format(xx=x,bb=y))"
   ]
  },
  {
   "cell_type": "code",
   "execution_count": 23,
   "metadata": {},
   "outputs": [
    {
     "name": "stdout",
     "output_type": "stream",
     "text": [
      "the number is 42000+0073\n"
     ]
    }
   ],
   "source": [
    "### format \n",
    "x = 42\n",
    "y = 73\n",
    "print('the number is {0:<05}{1:+05}'.format(x,y))"
   ]
  },
  {
   "cell_type": "code",
   "execution_count": 27,
   "metadata": {},
   "outputs": [
    {
     "name": "stdout",
     "output_type": "stream",
     "text": [
      "the number is 32,486,400\n"
     ]
    }
   ],
   "source": [
    "x = 32*423* 2400\n",
    "print('the number is {:,}'.format(x))"
   ]
  },
  {
   "cell_type": "code",
   "execution_count": 30,
   "metadata": {},
   "outputs": [
    {
     "ename": "ValueError",
     "evalue": "Format specifier missing precision",
     "output_type": "error",
     "traceback": [
      "\u001b[1;31m---------------------------------------------------------------------------\u001b[0m",
      "\u001b[1;31mValueError\u001b[0m                                Traceback (most recent call last)",
      "\u001b[1;32m<ipython-input-30-d9387d15f424>\u001b[0m in \u001b[0;36m<module>\u001b[1;34m\u001b[0m\n\u001b[0;32m      1\u001b[0m \u001b[0mx\u001b[0m \u001b[1;33m=\u001b[0m \u001b[1;36m32\u001b[0m\u001b[1;33m*\u001b[0m\u001b[1;36m423\u001b[0m\u001b[1;33m*\u001b[0m \u001b[1;36m2400\u001b[0m\u001b[1;33m\u001b[0m\u001b[1;33m\u001b[0m\u001b[0m\n\u001b[1;32m----> 2\u001b[1;33m \u001b[0mprint\u001b[0m\u001b[1;33m(\u001b[0m\u001b[1;34m'the number is {:.}'\u001b[0m\u001b[1;33m.\u001b[0m\u001b[0mformat\u001b[0m\u001b[1;33m(\u001b[0m\u001b[0mx\u001b[0m\u001b[1;33m)\u001b[0m\u001b[1;33m)\u001b[0m\u001b[1;33m\u001b[0m\u001b[1;33m\u001b[0m\u001b[0m\n\u001b[0m",
      "\u001b[1;31mValueError\u001b[0m: Format specifier missing precision"
     ]
    }
   ],
   "source": [
    "x = 32*423* 2400\n",
    "print('the number is {:.}'.format(x))"
   ]
  },
  {
   "cell_type": "code",
   "execution_count": 31,
   "metadata": {},
   "outputs": [
    {
     "name": "stdout",
     "output_type": "stream",
     "text": [
      "the number is 32486400.000\n"
     ]
    }
   ],
   "source": [
    "x = 32*423* 2400\n",
    "print('the number is {:.3f}'.format(x))"
   ]
  },
  {
   "cell_type": "code",
   "execution_count": null,
   "metadata": {},
   "outputs": [],
   "source": [
    "x = 32*423* 2400\n",
    "print('the number is {:,}'.format(x).replace(',', '.'))"
   ]
  },
  {
   "cell_type": "code",
   "execution_count": 33,
   "metadata": {},
   "outputs": [
    {
     "name": "stdout",
     "output_type": "stream",
     "text": [
      "the number is 42.000\n"
     ]
    }
   ],
   "source": [
    "x = 42\n",
    "print(f'the number is {x:.3f}')"
   ]
  },
  {
   "cell_type": "code",
   "execution_count": 34,
   "metadata": {},
   "outputs": [
    {
     "name": "stdout",
     "output_type": "stream",
     "text": [
      "This is a long string with a bunch of words in it.\n"
     ]
    }
   ],
   "source": [
    "s = 'This is a long string with a bunch of words in it.'\n",
    "print(s)"
   ]
  },
  {
   "cell_type": "code",
   "execution_count": 35,
   "metadata": {},
   "outputs": [
    {
     "name": "stdout",
     "output_type": "stream",
     "text": [
      "['This', 'is', 'a', 'long', 'string', 'with', 'a', 'bunch', 'of', 'words', 'in', 'it.']\n"
     ]
    }
   ],
   "source": [
    "s = 'This is a long string with a bunch of words in it.'\n",
    "print(s.split())\n"
   ]
  },
  {
   "cell_type": "code",
   "execution_count": 36,
   "metadata": {},
   "outputs": [
    {
     "name": "stdout",
     "output_type": "stream",
     "text": [
      "['This', 'is', 'a', 'long', 'string', 'with', 'a', 'bunch', 'of', 'words', 'in', 'it.']\n"
     ]
    }
   ],
   "source": [
    "s = '''This     is    a \n",
    "long string    with a \n",
    "\n",
    "bunch of words in it.'''\n",
    "print(s.split())"
   ]
  },
  {
   "cell_type": "code",
   "execution_count": 37,
   "metadata": {},
   "outputs": [
    {
     "name": "stdout",
     "output_type": "stream",
     "text": [
      "['Th', 's ', 's a long str', 'ng w', 'th a bunch of words ', 'n ', 't.']\n"
     ]
    }
   ],
   "source": [
    "s = 'This is a long string with a bunch of words in it.'\n",
    "print(s.split('i'))"
   ]
  },
  {
   "cell_type": "code",
   "execution_count": 39,
   "metadata": {},
   "outputs": [
    {
     "name": "stdout",
     "output_type": "stream",
     "text": [
      "This:is:a:long:string:with:a:bunch:of:words:in:it.\n"
     ]
    }
   ],
   "source": [
    "s = 'This is a long string with a bunch of words in it.'\n",
    "l = s.split()\n",
    "s2 = \":\".join(l)\n",
    "print(s2)"
   ]
  },
  {
   "cell_type": "code",
   "execution_count": 40,
   "metadata": {},
   "outputs": [
    {
     "name": "stdout",
     "output_type": "stream",
     "text": [
      "T:h:i:s: :i:s: :a: :l:o:n:g: :s:t:r:i:n:g: :w:i:t:h: :a: :b:u:n:c:h: :o:f: :w:o:r:d:s: :i:n: :i:t:.\n"
     ]
    }
   ],
   "source": [
    "s = 'This is a long string with a bunch of words in it.'\n",
    "# l = s.split()\n",
    "s2 = \":\".join(s)\n",
    "print(s2)"
   ]
  },
  {
   "cell_type": "code",
   "execution_count": 41,
   "metadata": {},
   "outputs": [
    {
     "name": "stdout",
     "output_type": "stream",
     "text": [
      "T--h--i--s-- --i--s-- --a-- --l--o--n--g-- --s--t--r--i--n--g-- --w--i--t--h-- --a-- --b--u--n--c--h-- --o--f-- --w--o--r--d--s-- --i--n-- --i--t--.\n"
     ]
    }
   ],
   "source": [
    "s = 'This is a long string with a bunch of words in it.'\n",
    "l = s.split()\n",
    "s2 = \"--\".join(s)\n",
    "print(s2)"
   ]
  },
  {
   "cell_type": "code",
   "execution_count": null,
   "metadata": {},
   "outputs": [],
   "source": []
  }
 ],
 "metadata": {
  "kernelspec": {
   "display_name": "Python 3",
   "language": "python",
   "name": "python3"
  },
  "language_info": {
   "codemirror_mode": {
    "name": "ipython",
    "version": 3
   },
   "file_extension": ".py",
   "mimetype": "text/x-python",
   "name": "python",
   "nbconvert_exporter": "python",
   "pygments_lexer": "ipython3",
   "version": "3.7.3"
  },
  "toc": {
   "base_numbering": 1,
   "nav_menu": {},
   "number_sections": true,
   "sideBar": true,
   "skip_h1_title": false,
   "title_cell": "Table of Contents",
   "title_sidebar": "Contents",
   "toc_cell": false,
   "toc_position": {},
   "toc_section_display": true,
   "toc_window_display": false
  }
 },
 "nbformat": 4,
 "nbformat_minor": 4
}
